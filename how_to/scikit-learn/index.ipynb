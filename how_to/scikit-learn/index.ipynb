{
 "cells": [
  {
   "cell_type": "markdown",
   "metadata": {},
   "source": [
    "# scikit-learnの便利な関数"
   ]
  },
  {
   "cell_type": "markdown",
   "metadata": {},
   "source": [
    "## Dataset-API"
   ]
  },
  {
   "cell_type": "markdown",
   "metadata": {},
   "source": [
    "|データセット詳細|用途|load関数|\n",
    "| ---- | ---- | ---- |\n",
    "|アヤメの計測データ|分類|load_iris|\n",
    "|糖尿病の診断データ|回帰|load_diabetes|\n",
    "|数字の手書き文字|分類|load_digits|\n",
    "|生理学的特徴と運動能力の関係|回帰|load_linnerud|\n",
    "|ワインの科学的特徴|分類|load_wine|\n",
    "|乳がんの診断データ|分類|load_breast_cancer|"
   ]
  },
  {
   "cell_type": "code",
   "execution_count": 1,
   "metadata": {},
   "outputs": [
    {
     "name": "stdout",
     "output_type": "stream",
     "text": [
      "        age       sex       bmi        bp        s1        s2        s3  \\\n",
      "0  0.038076  0.050680  0.061696  0.021872 -0.044223 -0.034821 -0.043401   \n",
      "1 -0.001882 -0.044642 -0.051474 -0.026328 -0.008449 -0.019163  0.074412   \n",
      "2  0.085299  0.050680  0.044451 -0.005670 -0.045599 -0.034194 -0.032356   \n",
      "3 -0.089063 -0.044642 -0.011595 -0.036656  0.012191  0.024991 -0.036038   \n",
      "4  0.005383 -0.044642 -0.036385  0.021872  0.003935  0.015596  0.008142   \n",
      "5 -0.092695 -0.044642 -0.040696 -0.019442 -0.068991 -0.079288  0.041277   \n",
      "6 -0.045472  0.050680 -0.047163 -0.015999 -0.040096 -0.024800  0.000779   \n",
      "7  0.063504  0.050680 -0.001895  0.066629  0.090620  0.108914  0.022869   \n",
      "\n",
      "         s4        s5        s6  target  \n",
      "0 -0.002592  0.019907 -0.017646   151.0  \n",
      "1 -0.039493 -0.068332 -0.092204    75.0  \n",
      "2 -0.002592  0.002861 -0.025930   141.0  \n",
      "3  0.034309  0.022688 -0.009362   206.0  \n",
      "4 -0.002592 -0.031988 -0.046641   135.0  \n",
      "5 -0.076395 -0.041176 -0.096346    97.0  \n",
      "6 -0.039493 -0.062917 -0.038357   138.0  \n",
      "7  0.017703 -0.035816  0.003064    63.0  \n",
      "          age       sex       bmi        bp        s1        s2        s3  \\\n",
      "437  0.041708  0.050680  0.019662  0.059744 -0.005697 -0.002566 -0.028674   \n",
      "438 -0.005515  0.050680 -0.015906 -0.067642  0.049341  0.079165 -0.028674   \n",
      "439  0.041708  0.050680 -0.015906  0.017293 -0.037344 -0.013840 -0.024993   \n",
      "440 -0.045472 -0.044642  0.039062  0.001215  0.016318  0.015283 -0.028674   \n",
      "441 -0.045472 -0.044642 -0.073030 -0.081413  0.083740  0.027809  0.173816   \n",
      "\n",
      "           s4        s5        s6  target  \n",
      "437 -0.002592  0.031193  0.007207   178.0  \n",
      "438  0.034309 -0.018114  0.044485   104.0  \n",
      "439 -0.011080 -0.046883  0.015491   132.0  \n",
      "440  0.026560  0.044529 -0.025930   220.0  \n",
      "441 -0.039493 -0.004222  0.003064    57.0  \n"
     ]
    }
   ],
   "source": [
    "########## 糖尿病の診断データのデータセットの確認\n",
    "# ライブラリのインポート\n",
    "import pandas as pd\n",
    "from sklearn.datasets import load_diabetes\n",
    "\n",
    "# インスタンスの作成\n",
    "diabetes = load_diabetes()\n",
    "\n",
    "# DataFrame形式にデータ変換\n",
    "df_diabetes = pd.DataFrame(data=diabetes.data,columns=diabetes.feature_names)\n",
    "df_diabetes['target'] = diabetes.target\n",
    "\n",
    "# df_diabetesの先頭8行の表示\n",
    "print(df_diabetes.head(8))\n",
    "\n",
    "# df_diabetesの末尾5行の表示\n",
    "print(df_diabetes.tail(5))"
   ]
  },
  {
   "cell_type": "code",
   "execution_count": null,
   "metadata": {},
   "outputs": [],
   "source": [
    "########## ワインの科学的特徴データセットの確認\n",
    "# ライブラリのインポート\n",
    "import pandas as pd\n",
    "from sklearn.datasets import load_wine\n",
    "\n",
    "# インスタンスの作成\n",
    "wine = load_wine()\n",
    "\n",
    "# DataFrame形式にデータ変換\n",
    "df_wine = pd.DataFrame(data=wine.data,columns=wine.feature_names)\n",
    "\n",
    "df_wine['target'] = wine.target\n",
    "\n",
    "print(df_wine)"
   ]
  },
  {
   "cell_type": "markdown",
   "metadata": {},
   "source": [
    "## データ前処理"
   ]
  },
  {
   "cell_type": "code",
   "execution_count": 3,
   "metadata": {},
   "outputs": [
    {
     "name": "stdout",
     "output_type": "stream",
     "text": [
      "count    1.780000e+02\n",
      "mean    -2.972030e-16\n",
      "std      1.002821e+00\n",
      "min     -2.107246e+00\n",
      "25%     -8.854682e-01\n",
      "50%      9.595986e-02\n",
      "75%      8.089974e-01\n",
      "max      2.539515e+00\n",
      "Name: total_phenols, dtype: float64\n"
     ]
    }
   ],
   "source": [
    "########## データの標準化【Standardscaler】\n",
    "# ライブラリのインポート\n",
    "import pandas as pd\n",
    "from sklearn.datasets import load_wine\n",
    "\n",
    "# データのロード\n",
    "wine = load_wine()\n",
    "df_wine = pd.DataFrame(data=wine.data,columns=wine.feature_names)\n",
    "df_wine['target'] = wine.target\n",
    "\n",
    "# 【preprocessing.StandardScaler()の引数】\n",
    "#    引数copy:Trueの場合は元のデータは変換されず、Falseの場合は変換元のデータを使って変換する（デフォルトはTrue）\n",
    "#    引数with_mean: Trueの場合は平均値を0とする。Falseの場合、Y=X/σの変換を施す（デフォルトはTrue）\n",
    "#    引数with_std: Trueの場合は標準偏差を1とする。Falseの場合、Y=X−μの変換を施す（デフォルトはTrue）\n",
    "\n",
    "# ライブラリのインポート\n",
    "from sklearn.preprocessing import StandardScaler\n",
    "# インスタンスの作成\n",
    "sc = StandardScaler()\n",
    "# データの適用\n",
    "sc.fit(df_wine)        \n",
    "# データの変換したものをDataFrame形式に変更\n",
    "df_wine_sc = pd.DataFrame(sc.transform(df_wine), columns=df_wine.columns)\n",
    "\n",
    "# 変換したデータの統計量確認\n",
    "print(df_wine_sc.describe()['total_phenols'])"
   ]
  },
  {
   "cell_type": "code",
   "execution_count": 4,
   "metadata": {},
   "outputs": [
    {
     "data": {
      "text/html": [
       "<div>\n",
       "<style scoped>\n",
       "    .dataframe tbody tr th:only-of-type {\n",
       "        vertical-align: middle;\n",
       "    }\n",
       "\n",
       "    .dataframe tbody tr th {\n",
       "        vertical-align: top;\n",
       "    }\n",
       "\n",
       "    .dataframe thead th {\n",
       "        text-align: right;\n",
       "    }\n",
       "</style>\n",
       "<table border=\"1\" class=\"dataframe\">\n",
       "  <thead>\n",
       "    <tr style=\"text-align: right;\">\n",
       "      <th></th>\n",
       "      <th>alcohol</th>\n",
       "      <th>malic_acid</th>\n",
       "      <th>ash</th>\n",
       "      <th>alcalinity_of_ash</th>\n",
       "      <th>magnesium</th>\n",
       "      <th>total_phenols</th>\n",
       "      <th>flavanoids</th>\n",
       "      <th>nonflavanoid_phenols</th>\n",
       "      <th>proanthocyanins</th>\n",
       "      <th>color_intensity</th>\n",
       "      <th>hue</th>\n",
       "      <th>od280/od315_of_diluted_wines</th>\n",
       "      <th>proline</th>\n",
       "      <th>target</th>\n",
       "    </tr>\n",
       "  </thead>\n",
       "  <tbody>\n",
       "    <tr>\n",
       "      <th>min</th>\n",
       "      <td>0.0</td>\n",
       "      <td>0.0</td>\n",
       "      <td>0.0</td>\n",
       "      <td>0.0</td>\n",
       "      <td>0.0</td>\n",
       "      <td>0.0</td>\n",
       "      <td>0.0</td>\n",
       "      <td>0.0</td>\n",
       "      <td>0.0</td>\n",
       "      <td>0.0</td>\n",
       "      <td>0.0</td>\n",
       "      <td>0.0</td>\n",
       "      <td>0.0</td>\n",
       "      <td>0.0</td>\n",
       "    </tr>\n",
       "    <tr>\n",
       "      <th>max</th>\n",
       "      <td>1.0</td>\n",
       "      <td>1.0</td>\n",
       "      <td>1.0</td>\n",
       "      <td>1.0</td>\n",
       "      <td>1.0</td>\n",
       "      <td>1.0</td>\n",
       "      <td>1.0</td>\n",
       "      <td>1.0</td>\n",
       "      <td>1.0</td>\n",
       "      <td>1.0</td>\n",
       "      <td>1.0</td>\n",
       "      <td>1.0</td>\n",
       "      <td>1.0</td>\n",
       "      <td>1.0</td>\n",
       "    </tr>\n",
       "  </tbody>\n",
       "</table>\n",
       "</div>"
      ],
      "text/plain": [
       "     alcohol  malic_acid  ash  alcalinity_of_ash  magnesium  total_phenols  \\\n",
       "min      0.0         0.0  0.0                0.0        0.0            0.0   \n",
       "max      1.0         1.0  1.0                1.0        1.0            1.0   \n",
       "\n",
       "     flavanoids  nonflavanoid_phenols  proanthocyanins  color_intensity  hue  \\\n",
       "min         0.0                   0.0              0.0              0.0  0.0   \n",
       "max         1.0                   1.0              1.0              1.0  1.0   \n",
       "\n",
       "     od280/od315_of_diluted_wines  proline  target  \n",
       "min                           0.0      0.0     0.0  \n",
       "max                           1.0      1.0     1.0  "
      ]
     },
     "execution_count": 4,
     "metadata": {},
     "output_type": "execute_result"
    }
   ],
   "source": [
    "########## データの正規化【Normalization】\n",
    "# ライブラリのインポート\n",
    "import pandas as pd\n",
    "from sklearn.datasets import load_wine\n",
    "\n",
    "# データのロード\n",
    "wine = load_wine()\n",
    "df_wine = pd.DataFrame(data=wine.data,columns=wine.feature_names)\n",
    "df_wine['target'] = wine.target\n",
    "\n",
    "# ライブラリのインポート\n",
    "from sklearn.preprocessing import MinMaxScaler\n",
    "# インスタンスの作成\n",
    "ms = MinMaxScaler(feature_range=(0, 1))\n",
    "# データの適用\n",
    "ms.fit(df_wine)        \n",
    "# データの変換したものをDataFrame形式に変更\n",
    "df_wine_ms = pd.DataFrame(ms.transform(df_wine), columns=df_wine.columns)\n",
    "\n",
    "# 変換したデータの統計量確認\n",
    "df_wine_ms.describe().loc[['min','max']]"
   ]
  },
  {
   "cell_type": "code",
   "execution_count": 3,
   "metadata": {},
   "outputs": [
    {
     "data": {
      "text/html": [
       "<div>\n",
       "<style scoped>\n",
       "    .dataframe tbody tr th:only-of-type {\n",
       "        vertical-align: middle;\n",
       "    }\n",
       "\n",
       "    .dataframe tbody tr th {\n",
       "        vertical-align: top;\n",
       "    }\n",
       "\n",
       "    .dataframe thead th {\n",
       "        text-align: right;\n",
       "    }\n",
       "</style>\n",
       "<table border=\"1\" class=\"dataframe\">\n",
       "  <thead>\n",
       "    <tr style=\"text-align: right;\">\n",
       "      <th></th>\n",
       "      <th>野菜名</th>\n",
       "      <th>値段（円）</th>\n",
       "    </tr>\n",
       "  </thead>\n",
       "  <tbody>\n",
       "    <tr>\n",
       "      <th>0</th>\n",
       "      <td>0</td>\n",
       "      <td>100</td>\n",
       "    </tr>\n",
       "    <tr>\n",
       "      <th>1</th>\n",
       "      <td>2</td>\n",
       "      <td>140</td>\n",
       "    </tr>\n",
       "    <tr>\n",
       "      <th>2</th>\n",
       "      <td>1</td>\n",
       "      <td>120</td>\n",
       "    </tr>\n",
       "    <tr>\n",
       "      <th>3</th>\n",
       "      <td>1</td>\n",
       "      <td>200</td>\n",
       "    </tr>\n",
       "    <tr>\n",
       "      <th>4</th>\n",
       "      <td>1</td>\n",
       "      <td>80</td>\n",
       "    </tr>\n",
       "    <tr>\n",
       "      <th>5</th>\n",
       "      <td>0</td>\n",
       "      <td>50</td>\n",
       "    </tr>\n",
       "  </tbody>\n",
       "</table>\n",
       "</div>"
      ],
      "text/plain": [
       "   野菜名 値段（円）\n",
       "0    0   100\n",
       "1    2   140\n",
       "2    1   120\n",
       "3    1   200\n",
       "4    1    80\n",
       "5    0    50"
      ]
     },
     "execution_count": 3,
     "metadata": {},
     "output_type": "execute_result"
    }
   ],
   "source": [
    "########## ラベルエンコード【LabelEncoder】\n",
    "# ライブラリのインポート\n",
    "import pandas as pd\n",
    "from sklearn.preprocessing import LabelEncoder\n",
    "\n",
    "df = pd.DataFrame({\n",
    "    '野菜名': ['キャベツ', 'レタス', 'ネギ', 'ネギ', 'ネギ', 'キャベツ'], \n",
    "    '値段（円）': ['100', '140', '120', '200', '80', '50'], \n",
    "})\n",
    "\n",
    "# インスタンスの生成\n",
    "le = LabelEncoder()\n",
    "\n",
    "#　データの適用\n",
    "le = le.fit(df['野菜名'])\n",
    "\n",
    "#　ラベルを整数に変換\n",
    "df['野菜名'] = le.transform(df['野菜名'])\n",
    "df"
   ]
  },
  {
   "cell_type": "code",
   "execution_count": 4,
   "metadata": {},
   "outputs": [
    {
     "name": "stderr",
     "output_type": "stream",
     "text": [
      "c:\\Users\\nakamura\\anaconda3\\lib\\site-packages\\sklearn\\preprocessing\\_encoders.py:972: FutureWarning: `sparse` was renamed to `sparse_output` in version 1.2 and will be removed in 1.4. `sparse_output` is ignored unless you leave `sparse` to its default value.\n",
      "  warnings.warn(\n"
     ]
    },
    {
     "data": {
      "text/html": [
       "<div>\n",
       "<style scoped>\n",
       "    .dataframe tbody tr th:only-of-type {\n",
       "        vertical-align: middle;\n",
       "    }\n",
       "\n",
       "    .dataframe tbody tr th {\n",
       "        vertical-align: top;\n",
       "    }\n",
       "\n",
       "    .dataframe thead tr th {\n",
       "        text-align: left;\n",
       "    }\n",
       "</style>\n",
       "<table border=\"1\" class=\"dataframe\">\n",
       "  <thead>\n",
       "    <tr>\n",
       "      <th></th>\n",
       "      <th>キャベツ</th>\n",
       "      <th>ネギ</th>\n",
       "      <th>レタス</th>\n",
       "    </tr>\n",
       "  </thead>\n",
       "  <tbody>\n",
       "    <tr>\n",
       "      <th>0</th>\n",
       "      <td>1.0</td>\n",
       "      <td>0.0</td>\n",
       "      <td>0.0</td>\n",
       "    </tr>\n",
       "    <tr>\n",
       "      <th>1</th>\n",
       "      <td>0.0</td>\n",
       "      <td>0.0</td>\n",
       "      <td>1.0</td>\n",
       "    </tr>\n",
       "    <tr>\n",
       "      <th>2</th>\n",
       "      <td>0.0</td>\n",
       "      <td>1.0</td>\n",
       "      <td>0.0</td>\n",
       "    </tr>\n",
       "    <tr>\n",
       "      <th>3</th>\n",
       "      <td>0.0</td>\n",
       "      <td>1.0</td>\n",
       "      <td>0.0</td>\n",
       "    </tr>\n",
       "    <tr>\n",
       "      <th>4</th>\n",
       "      <td>0.0</td>\n",
       "      <td>1.0</td>\n",
       "      <td>0.0</td>\n",
       "    </tr>\n",
       "    <tr>\n",
       "      <th>5</th>\n",
       "      <td>1.0</td>\n",
       "      <td>0.0</td>\n",
       "      <td>0.0</td>\n",
       "    </tr>\n",
       "  </tbody>\n",
       "</table>\n",
       "</div>"
      ],
      "text/plain": [
       "  キャベツ   ネギ  レタス\n",
       "0  1.0  0.0  0.0\n",
       "1  0.0  0.0  1.0\n",
       "2  0.0  1.0  0.0\n",
       "3  0.0  1.0  0.0\n",
       "4  0.0  1.0  0.0\n",
       "5  1.0  0.0  0.0"
      ]
     },
     "execution_count": 4,
     "metadata": {},
     "output_type": "execute_result"
    }
   ],
   "source": [
    "########## ワンホットエンコード【OneHotEncoder】\n",
    "#　ライブラリのインポート\n",
    "import pandas as pd\n",
    "from sklearn.preprocessing import OneHotEncoder\n",
    "\n",
    "#　テストデータの用意\n",
    "df = pd.DataFrame({\n",
    "    '野菜名': ['キャベツ', 'レタス', 'ネギ', 'ネギ', 'ネギ', 'キャベツ']\n",
    "})\n",
    "\n",
    "# インスタンスの生成\n",
    "enc = OneHotEncoder(sparse=False)\n",
    "\n",
    "# ワンホットエンコード\n",
    "df = pd.DataFrame(enc.fit_transform(df),columns=enc.categories_)\n",
    "df"
   ]
  },
  {
   "cell_type": "markdown",
   "metadata": {},
   "source": [
    "## データ分割"
   ]
  },
  {
   "cell_type": "code",
   "execution_count": 5,
   "metadata": {},
   "outputs": [
    {
     "name": "stdout",
     "output_type": "stream",
     "text": [
      "(442, 10)\n",
      "(265, 10)\n",
      "(265,)\n",
      "(177, 10)\n",
      "(177,)\n"
     ]
    }
   ],
   "source": [
    "########## 学習データとテストデータへの分割【train_test_split】\n",
    "# ライブラリのインポート\n",
    "import pandas as pd\n",
    "from sklearn.datasets import load_diabetes\n",
    "from sklearn.model_selection import train_test_split\n",
    "\n",
    "# データのロード\n",
    "diabetes = load_diabetes()\n",
    "df_diabetes = pd.DataFrame(data=diabetes.data,columns=diabetes.feature_names)\n",
    "\n",
    "# 全データの大きさ\n",
    "print(df_diabetes.shape)\n",
    "\n",
    "# 【train_test_split()の引数】\n",
    "#    位置引数\n",
    "#        第一引数(可変長): 分割の対象となる配列。\n",
    "#    キーワード引数\n",
    "#        引数test_size:テストデータの割合または個数を指定（0.0 ~ 1.0の割合か、個数を指定）\n",
    "#        引数train_size: 学習データの割合または個数を指定（0.0 ~ 1.0の割合か、個数を指定）\n",
    "#        引数shuffle: Trueの場合はデータのシャッフルを行う\n",
    "#        引数random_state: 乱数シードを指定\n",
    "\n",
    "#    X_train:説明変数の学習用データ\n",
    "#    X_test:説明変数のテスト用データ\n",
    "#    y_train:目的変数の学習用データ\n",
    "#    y_test:目的変数のテスト用データ\n",
    "\n",
    "# データの分割\n",
    "X_train, X_test, y_train, y_test = train_test_split(df_diabetes,diabetes.target,train_size = 0.6 ,random_state=0)\n",
    "\n",
    "# 学習データの大きさ\n",
    "print(X_train.shape)\n",
    "print(y_train.shape)\n",
    "\n",
    "# テストデータの大きさ\n",
    "print(X_test.shape)\n",
    "print(y_test.shape)"
   ]
  },
  {
   "cell_type": "code",
   "execution_count": 7,
   "metadata": {},
   "outputs": [
    {
     "name": "stdout",
     "output_type": "stream",
     "text": [
      "Fold：0 len(train_index)：294 len(test_index)：148\n",
      "Fold：1 len(train_index)：295 len(test_index)：147\n",
      "Fold：2 len(train_index)：295 len(test_index)：147\n"
     ]
    }
   ],
   "source": [
    "########## K-分割交差検証【KFold】\n",
    "# ライブラリのインポート\n",
    "import pandas as pd\n",
    "from sklearn.model_selection import KFold\n",
    "from sklearn.datasets import load_diabetes\n",
    "\n",
    "# データのロード\n",
    "diabetes = load_diabetes()\n",
    "\n",
    "# 【KFold()の引数】\n",
    "#    引数 n_split: データの分割数、デフォルトは5\n",
    "#    引数 shuffle: 連続する数字のグループ分けとするか（True もしくはFalse）\n",
    "#    引数 random_state: 乱数の設定\n",
    "\n",
    "# 交差検証（fold=3）\n",
    "kf = KFold(n_splits=3, shuffle=True, random_state=0)\n",
    "for fold,(train_index, test_index) in enumerate(kf.split(diabetes.data, diabetes.target)):\n",
    "    print(\"Fold：{}\".format(fold),\"len(train_index)：{}\".format(len(train_index)), \"len(test_index)：{}\".format(len(test_index)))\n",
    "    "
   ]
  },
  {
   "cell_type": "code",
   "execution_count": 8,
   "metadata": {},
   "outputs": [
    {
     "name": "stdout",
     "output_type": "stream",
     "text": [
      "FOLD0\n",
      "1    0.398305\n",
      "0    0.330508\n",
      "2    0.271186\n",
      "Name: target, dtype: float64\n",
      "FOLD1\n",
      "1    0.403361\n",
      "0    0.327731\n",
      "2    0.268908\n",
      "Name: target, dtype: float64\n",
      "FOLD2\n",
      "1    0.394958\n",
      "0    0.336134\n",
      "2    0.268908\n",
      "Name: target, dtype: float64\n"
     ]
    }
   ],
   "source": [
    "########## 層化K-分割交差検証【StratifiedKFold】\n",
    "# ライブラリのインポート\n",
    "import pandas as pd\n",
    "from sklearn.datasets import load_wine\n",
    "from sklearn.model_selection import StratifiedKFold\n",
    "\n",
    "# データのロード\n",
    "wine = load_wine()\n",
    "df_wine = pd.DataFrame(data=wine.data,columns=wine.feature_names)\n",
    "df_wine['target'] = wine.target\n",
    "\n",
    "# 【StratifiedKFold()の引数】\n",
    "#    引数 n_split: データの分割数、デフォルトは5\n",
    "#    引数 shuffle: 連続する数字のグループ分けとするか（True もしくはFalse）\n",
    "#    引数 random_state: 乱数の設定\n",
    "\n",
    "kf = StratifiedKFold(n_splits=3,shuffle=True,random_state=0)\n",
    "for fold,(train_index, test_index) in enumerate(kf.split(wine.data, df_wine['target'])):\n",
    "    print('FOLD{}'.format(fold))\n",
    "    print(df_wine.iloc[train_index]['target'].value_counts(True))"
   ]
  },
  {
   "cell_type": "code",
   "execution_count": 9,
   "metadata": {},
   "outputs": [
    {
     "name": "stdout",
     "output_type": "stream",
     "text": [
      "FOLD0\n",
      "0    1.0\n",
      "Name: group, dtype: float64\n",
      "FOLD1\n",
      "2    1.0\n",
      "Name: group, dtype: float64\n"
     ]
    }
   ],
   "source": [
    "########## グループ付き交差検証【GroupKFold】\n",
    "# ライブラリのインポート\n",
    "import pandas as pd\n",
    "from sklearn.model_selection import GroupKFold\n",
    "\n",
    "# データの準備\n",
    "df = pd.DataFrame([[1, 2], [3, 4], [5, 6], [7, 8]],columns=['col1','col2'])\n",
    "df['target'] = [1, 2, 3, 4]\n",
    "df['group'] = [0, 0, 2, 2]\n",
    "\n",
    "# 【GroupKFold()の引数】\n",
    "#    引数n_split: データの分割数、デフォルトは5\n",
    "\n",
    "# GroupKFold\n",
    "kf = GroupKFold(n_splits=2)\n",
    "for fold,(train_index, test_index) in enumerate(kf.split(df[['col1','col2']], df['target'],df['group'])):\n",
    "    print('FOLD{}'.format(fold))\n",
    "    print(df.iloc[train_index]['group'].value_counts(True))"
   ]
  },
  {
   "cell_type": "code",
   "execution_count": 10,
   "metadata": {},
   "outputs": [
    {
     "name": "stdout",
     "output_type": "stream",
     "text": [
      "TRAIN: [0] TEST: [1]\n",
      "TRAIN: [0 1] TEST: [2]\n",
      "TRAIN: [0 1 2] TEST: [3]\n",
      "TRAIN: [0 1 2 3] TEST: [4]\n",
      "TRAIN: [0 1 2 3 4] TEST: [5]\n"
     ]
    }
   ],
   "source": [
    "########## 時系列データ分割【TimeSeriesSplit】\n",
    "# ライブラリのインポート\n",
    "import numpy as np\n",
    "from sklearn.model_selection import TimeSeriesSplit\n",
    "\n",
    "X = np.array([[1, 2], [3, 4], [1, 2], [3, 4], [1, 2], [3, 4]])\n",
    "y = np.array([1, 2, 3, 4, 5, 6])\n",
    "\n",
    "# 【TimeSeriesSplit()の引数】\n",
    "#    引数n_split: データの分割数、デフォルトは5\n",
    "\n",
    "tscv = TimeSeriesSplit(n_splits=5)\n",
    "for train_index, test_index in tscv.split(X):\n",
    "    print(\"TRAIN:\", train_index, \"TEST:\", test_index)"
   ]
  },
  {
   "cell_type": "markdown",
   "metadata": {},
   "source": [
    "# 教師あり学習"
   ]
  },
  {
   "cell_type": "markdown",
   "metadata": {},
   "source": [
    "## 線形回帰【LinearRegression】 "
   ]
  },
  {
   "cell_type": "code",
   "execution_count": null,
   "metadata": {},
   "outputs": [],
   "source": [
    "# 【LinearRegression()の引数】\n",
    "#    引数fit_intercept:Falseの場合、切片を求める計算を含まない（デフォルトはTrue）\n",
    "#    引数normalize:Trueの場合、説明変数を正規化する（デフォルトはFalse）\n",
    "#    引数copy_X: メモリ内でデータを複製するか(デフォルトはTrue)\n",
    "#    引数n_jobs: 計算に使うジョブの数\n",
    "# 【sklearn.linear_model.LinearRegressionクラスのメソッド】\n",
    "#    fit(X, y[, sample_weight]):学習の実行\n",
    "#    get_params([deep]):学習の際に用いたパラメータの取得\n",
    "#    predict(X): 予測の実行\n",
    "#    score(X, y[, sample_weight]): 決定係数の算出\n",
    "#    set_params(**params): パラメータの設定"
   ]
  },
  {
   "cell_type": "code",
   "execution_count": 11,
   "metadata": {},
   "outputs": [
    {
     "name": "stdout",
     "output_type": "stream",
     "text": [
      "[949.43526038]\n",
      "152.13348416289617\n"
     ]
    }
   ],
   "source": [
    "########## 単回帰分析\n",
    "# ライブラリのインポート\n",
    "import pandas as pd\n",
    "from sklearn.datasets import load_diabetes\n",
    "from sklearn.linear_model import LinearRegression\n",
    "\n",
    "# データのロード\n",
    "diabetes = load_diabetes()\n",
    "df_diabetes = pd.DataFrame(data=diabetes.data,columns=diabetes.feature_names)\n",
    "df_diabetes['target'] = diabetes.target\n",
    "\n",
    "# インスタンス作成\n",
    "clf = LinearRegression()\n",
    "\n",
    "# 説明変数bmi（肥満度を表す指標）\n",
    "X = df_diabetes['bmi'].values.reshape(-1, 1)\n",
    "\n",
    "# 目的変数target\n",
    "Y = df_diabetes['target'].values\n",
    "\n",
    "# 予測モデルを作成\n",
    "clf.fit(X, Y)\n",
    "\n",
    "# 回帰係数\n",
    "print(clf.coef_)\n",
    "\n",
    "# 切片\n",
    "print(clf.intercept_)"
   ]
  },
  {
   "cell_type": "code",
   "execution_count": 13,
   "metadata": {},
   "outputs": [
    {
     "name": "stdout",
     "output_type": "stream",
     "text": [
      "[ -10.0098663  -239.81564367  519.84592005  324.3846455  -792.17563855\n",
      "  476.73902101  101.04326794  177.06323767  751.27369956   67.62669218]\n",
      "152.13348416289597\n"
     ]
    }
   ],
   "source": [
    "########## 重回帰分析\n",
    "# ライブラリのインポート\n",
    "import pandas as pd\n",
    "from sklearn.datasets import load_diabetes\n",
    "from sklearn.linear_model import LinearRegression\n",
    "\n",
    "# データのロード\n",
    "diabetes = load_diabetes()\n",
    "df_diabetes = pd.DataFrame(data=diabetes.data,columns=diabetes.feature_names)\n",
    "df_diabetes['target'] = diabetes.target\n",
    "\n",
    "# インスタンス作成\n",
    "clf = LinearRegression()\n",
    "\n",
    "# 説明変数\n",
    "X = df_diabetes[diabetes.feature_names].values\n",
    "\n",
    "# 目的変数target\n",
    "Y = df_diabetes['target'].values\n",
    "\n",
    "# 予測モデルを作成\n",
    "clf.fit(X, Y)\n",
    "\n",
    "# 回帰係数\n",
    "print(clf.coef_)\n",
    "\n",
    "# 切片\n",
    "print(clf.intercept_)"
   ]
  },
  {
   "cell_type": "markdown",
   "metadata": {},
   "source": [
    "## ロジスティック回帰【LogisticRegression】"
   ]
  },
  {
   "cell_type": "code",
   "execution_count": null,
   "metadata": {},
   "outputs": [],
   "source": [
    "# 【LogisticRegression()の引数】\n",
    "#    引数penalty:ペナルティ関数の設定（l1：L1正則化、l2：L2正則化）\n",
    "#    引数C:正則化の影響度の設定\n",
    "#    引数random_state:乱数\n",
    "#    引数solver: 最適化のアルゴリズム('newton-cg', 'lbfgs', 'liblinear', 'sag', 'saga'}\n",
    "#    引数max_iter: 収束計算の最大試行回数\n",
    "#    引数n_jobs: 計算に使うジョブの数\n",
    "#\n",
    "# 【sklearn.linear_model.LogisticRegressionクラスのメソッド】\n",
    "#     fit(X, y[, sample_weight]):学習の実行\n",
    "#     get_params([deep]):学習の際に用いたパラメータの取得\n",
    "#     predict(X): 予測の実行\n",
    "#     predict_proba(X): 予測の実行(確率値)\n",
    "#     score(X, y[, sample_weight]): 決定係数の算出\n",
    "#     set_params(**params): パラメータの設定"
   ]
  },
  {
   "cell_type": "code",
   "execution_count": 14,
   "metadata": {},
   "outputs": [
    {
     "data": {
      "text/plain": [
       "0.956140350877193"
      ]
     },
     "execution_count": 14,
     "metadata": {},
     "output_type": "execute_result"
    }
   ],
   "source": [
    "########## ロジスティック回帰を使った2値分類\n",
    "# ライブラリのインポート\n",
    "import pandas as pd\n",
    "from sklearn.datasets import load_breast_cancer\n",
    "from sklearn.linear_model import LogisticRegression\n",
    "from sklearn.model_selection import train_test_split\n",
    "from sklearn.metrics import accuracy_score\n",
    "\n",
    "# データのロード\n",
    "breast = load_breast_cancer()\n",
    "df_breast = pd.DataFrame(data=breast.data,columns=breast.feature_names)\n",
    "df_breast['target'] = breast.target\n",
    "\n",
    "# インスタンス作成\n",
    "clf = LogisticRegression(solver='liblinear')\n",
    "\n",
    "# 説明変数\n",
    "X = df_breast[breast.feature_names].values\n",
    "\n",
    "# 目的変数target\n",
    "Y = df_breast['target'].values\n",
    "\n",
    "X_train, X_test, y_train, y_test = train_test_split(X, Y, test_size = 0.2, random_state=42)\n",
    "\n",
    "# 予測モデルを作成\n",
    "clf.fit(X_train, y_train)\n",
    "\n",
    "# 予測したモデルで未知データに対して予測\n",
    "clf.predict_proba(X_test)\n",
    "\n",
    "# 精度算出\n",
    "accuracy_score(y_test,clf.predict(X_test))"
   ]
  },
  {
   "cell_type": "code",
   "execution_count": 15,
   "metadata": {},
   "outputs": [
    {
     "name": "stdout",
     "output_type": "stream",
     "text": [
      "0.9444444444444444\n"
     ]
    }
   ],
   "source": [
    "########## ロジスティック回帰を使った多値分類\n",
    "# ライブラリのインポート\n",
    "import pandas as pd\n",
    "from sklearn.datasets import load_wine\n",
    "from sklearn.linear_model import LogisticRegression\n",
    "from sklearn.model_selection import train_test_split\n",
    "from sklearn.metrics import accuracy_score\n",
    "\n",
    "# データのロード\n",
    "wine = load_wine()\n",
    "df_wine = pd.DataFrame(data=wine.data,columns=wine.feature_names)\n",
    "df_wine['target'] = wine.target\n",
    "\n",
    "# インスタンス作成\n",
    "clf = LogisticRegression(solver='liblinear')\n",
    "\n",
    "# 説明変数\n",
    "X = df_wine[wine.feature_names].values\n",
    "\n",
    "# 目的変数target\n",
    "Y = df_wine['target'].values\n",
    "\n",
    "# データの分割\n",
    "X_train, X_test, y_train, y_test = train_test_split(X, Y, test_size = 0.2)\n",
    "\n",
    "# 予測モデルを作成\n",
    "clf.fit(X_train, y_train)\n",
    "\n",
    "# 精度算出\n",
    "print(accuracy_score(y_test,clf.predict(X_test)))"
   ]
  },
  {
   "cell_type": "markdown",
   "metadata": {},
   "source": [
    "## ランダムフォレスト【RandomForest】 "
   ]
  },
  {
   "cell_type": "code",
   "execution_count": null,
   "metadata": {},
   "outputs": [],
   "source": [
    "# 【RandomForestClassifier()、またはのRandomForestRegressor()の引数】\n",
    "#    引数n_estimators:決定木の個数を指定\n",
    "#    引数criterion:決定木のデータ分割の指標('gini-cg', 'entropy'）(デフォルトはgini)\n",
    "#    引数max_depth: 決定木の深さの最大値を指定\n",
    "#    引数n_jobs: 計算に使うジョブの数\n",
    "#    引数random_state: 乱数\n",
    "#    引数verbose: モデル構築の過程のメッセージを出すかどうか（デフォルトは0）\n",
    "#\n",
    "# 【クラスのメソッド】\n",
    "#    fit(X, y[, sample_weight]):学習の実行\n",
    "#    get_params([deep]):学習の際に用いたパラメータの取得\n",
    "#    predict(X): 予測の実行\n",
    "#    score(X, y[, sample_weight]): 決定係数の算出\n",
    "#    feature_importances_: 説明変数の特徴量重要度\n",
    "#    set_params(**params): パラメータの設定の確認"
   ]
  },
  {
   "cell_type": "code",
   "execution_count": 16,
   "metadata": {},
   "outputs": [
    {
     "name": "stdout",
     "output_type": "stream",
     "text": [
      "                 feature  importances\n",
      "22       worst perimeter     0.172054\n",
      "27  worst concave points     0.142027\n",
      "20          worst radius     0.095563\n",
      "7    mean concave points     0.086691\n",
      "6         mean concavity     0.079866\n"
     ]
    }
   ],
   "source": [
    "########## ランダムフォレストを使った分類\n",
    "# ライブラリのインポート\n",
    "import pandas as pd\n",
    "from sklearn.datasets import load_breast_cancer\n",
    "from sklearn.ensemble import RandomForestClassifier\n",
    "from sklearn.model_selection import train_test_split\n",
    "from sklearn.metrics import accuracy_score\n",
    "\n",
    "# データのロード\n",
    "breast = load_breast_cancer()\n",
    "df_breast = pd.DataFrame(data=breast.data,columns=breast.feature_names)\n",
    "df_breast['target'] = breast.target\n",
    "\n",
    "# インスタンス作成\n",
    "clf = RandomForestClassifier(random_state=0)\n",
    "\n",
    "# 説明変数\n",
    "X = df_breast[breast.feature_names].values\n",
    "\n",
    "# 目的変数target\n",
    "Y = df_breast['target'].values\n",
    "\n",
    "# データの分割\n",
    "X_train, X_test, y_train, y_test = train_test_split(X, Y, test_size = 0.2,random_state=0)\n",
    "\n",
    "# 予測モデルを作成\n",
    "clf.fit(X_train, y_train)\n",
    "\n",
    "# 特徴量重要度\n",
    "feature_importance = pd.DataFrame({'feature':breast.feature_names,'importances':clf.feature_importances_}).sort_values(by=\"importances\", ascending=False)\n",
    "\n",
    "print(feature_importance.head())"
   ]
  },
  {
   "cell_type": "code",
   "execution_count": 17,
   "metadata": {},
   "outputs": [
    {
     "data": {
      "image/png": "[encoded data removed]",
      "text/plain": [
       "<Figure size 432x288 with 1 Axes>"
      ]
     },
     "metadata": {
      "needs_background": "light"
     },
     "output_type": "display_data"
    }
   ],
   "source": [
    "########## ランダムフォレストを使った回帰\n",
    "# ライブラリのインポート\n",
    "import pandas as pd\n",
    "import matplotlib.pyplot as plt\n",
    "import seaborn as sns\n",
    "from sklearn.datasets import load_diabetes\n",
    "from sklearn.ensemble import RandomForestRegressor\n",
    "from sklearn.model_selection import train_test_split\n",
    "from sklearn.metrics import accuracy_score\n",
    "\n",
    "# データのロード\n",
    "diabetes = load_diabetes()\n",
    "df_diabetes = pd.DataFrame(data=diabetes.data,columns=diabetes.feature_names)\n",
    "df_diabetes['target'] = diabetes.target\n",
    "\n",
    "# インスタンス作成\n",
    "clf = RandomForestRegressor(random_state=0)\n",
    "\n",
    "# 説明変数\n",
    "X = df_diabetes[diabetes.feature_names].values\n",
    "\n",
    "# 目的変数target\n",
    "Y = df_diabetes['target'].values\n",
    "\n",
    "# データの分割\n",
    "X_train, X_test, y_train, y_test = train_test_split(X, Y, test_size = 0.2,random_state=0)\n",
    "\n",
    "# 予測モデルを作成\n",
    "clf.fit(X_train, y_train)\n",
    "\n",
    "# 特徴量重要度\n",
    "feature_importance = pd.DataFrame({'feature':diabetes.feature_names,'importances':clf.feature_importances_}).sort_values(by=\"importances\", ascending=False)\n",
    "\n",
    "# 可視化\n",
    "sns.barplot(x=\"importances\", y=\"feature\", data=feature_importance.head())\n",
    "plt.show()"
   ]
  },
  {
   "cell_type": "markdown",
   "metadata": {},
   "source": [
    "## サポートベクターマシン【SupportVectorMachine】 "
   ]
  },
  {
   "cell_type": "code",
   "execution_count": null,
   "metadata": {},
   "outputs": [],
   "source": [
    "# 【scikit-learnに実装されているSVM】\n",
    "#     分類問題に使用する SVM （Support Vector Classification）\n",
    "#         SVC （C-Support Vector Classification）\n",
    "#             標準的なソフトマージン(エラーを許容する)SVM\n",
    "#         LinearSVC （Linear Support Vector Classification）\n",
    "#             カーネルが線形カーネルの場合に特化したSVM\n",
    "#         NuSVC （Nu-Support Vector Classification）\n",
    "#             エラーを許容する表現が異なるSVM\n",
    "#     回帰問題に使用する SVM （Support Vector Regression）参考\n",
    "#         SVR\n",
    "#         LinearSVR\n",
    "#         NuSVR\n",
    "#     異常検知に使用する SVM\n",
    "#         OneClassSVM\n",
    "\n",
    "# 【SVC()の引数】\n",
    "#     引数C:正則化のパラメータ\n",
    "#     引数kernel:アルゴリズムで使用するカーネルタイプ（'linear'、 'poly'、 'rbf'、 'sigmoid'、 'precomputed'）\n",
    "#     引数degree: 多項式カーネル関数の次数（kernel='poly'の時のみ有効）\n",
    "#     引数gamma: カーネルがrbf、poly、sigmoidの時のカーネル係数。\n",
    "#     引数random_state: 乱数\n",
    "#     引数verbose: モデル構築の過程のメッセージを出すかどうか（デフォルトは0）"
   ]
  },
  {
   "cell_type": "code",
   "execution_count": 1,
   "metadata": {},
   "outputs": [
    {
     "name": "stdout",
     "output_type": "stream",
     "text": [
      "{'C': 0.1, 'gamma': 0.1, 'kernel': 'rbf'}\n"
     ]
    }
   ],
   "source": [
    "########## サポートベクターマシンを使った分類【GridSearchCV】\n",
    "# ライブラリのインポート\n",
    "import pandas as pd\n",
    "import numpy as np\n",
    "from sklearn.datasets import load_breast_cancer\n",
    "from sklearn.svm import SVC\n",
    "from sklearn.model_selection import train_test_split,GridSearchCV\n",
    "from sklearn.metrics import accuracy_score\n",
    "\n",
    "# データのロード\n",
    "breast = load_breast_cancer()\n",
    "df_breast = pd.DataFrame(data=breast.data,columns=breast.feature_names)\n",
    "df_breast['target'] = breast.target\n",
    "\n",
    "# インスタンス作成\n",
    "clf = SVC(random_state=0)\n",
    "\n",
    "# 説明変数\n",
    "X = df_breast[breast.feature_names].values\n",
    "\n",
    "# 目的変数target\n",
    "Y = df_breast['target'].values\n",
    "\n",
    "# データの分割\n",
    "X_train, X_test, y_train, y_test = train_test_split(X, Y, test_size = 0.2,random_state=0)\n",
    "\n",
    "# 探索用のパラメータ設定\n",
    "params = {\n",
    "    \"C\":np.arange(0.1,1,0.05),\n",
    "    \"kernel\":[\"rbf\"],\n",
    "    \"gamma\":np.arange(0.1,1,0.5)\n",
    "}\n",
    "\n",
    "# グリッドサーチの設定\n",
    "clf = GridSearchCV(clf, params,scoring=\"accuracy\", cv=3)\n",
    "\n",
    "# 予測モデルを作成\n",
    "clf.fit(X_train, y_train)\n",
    "\n",
    "# 最適なパラメータの表示\n",
    "print(clf.best_params_)"
   ]
  },
  {
   "cell_type": "markdown",
   "metadata": {},
   "source": [
    "## K近傍法【K-NearestNeighbor】 "
   ]
  },
  {
   "cell_type": "code",
   "execution_count": null,
   "metadata": {},
   "outputs": [],
   "source": [
    "# 【KNeighborsClassifier()、またはのKNeighborsRegressor()の引数】\n",
    "#     引数n_neighbors:近傍オブジェクト数（デフォルトは5）\n",
    "#     引数weights:重み('uniform', 'distance'）(デフォルトはuniform)\n",
    "#     引数algorithm: アルゴリズム選択('ball_tree', 'kd_tree' ,'brute' ,'auto'）(デフォルトはauto)\n",
    "#     引数leaf_size: リーフサイズ（デフォルトは30）\n",
    "#     引数n_jobs: 計算に使うジョブの数\n",
    "#     引数verbose: モデル構築の過程のメッセージを出すかどうか（デフォルトは0）\n",
    "\n",
    "# 【クラスのメソッド】\n",
    "#     fit(X, y[, sample_weight]):学習の実行\n",
    "#     get_params():学習の際に用いたパラメータの取得\n",
    "#     predict(X): 予測の実行\n",
    "#     score(X, y[, sample_weight]): 決定係数の算出\n",
    "#     set_params(**params): パラメータの設定の確認"
   ]
  },
  {
   "cell_type": "code",
   "execution_count": 1,
   "metadata": {},
   "outputs": [
    {
     "data": {
      "text/plain": [
       "0.9122807017543859"
      ]
     },
     "execution_count": 1,
     "metadata": {},
     "output_type": "execute_result"
    }
   ],
   "source": [
    "########## K近傍法を使った分類\n",
    "# ライブラリのインポート\n",
    "import pandas as pd\n",
    "import numpy as np\n",
    "from sklearn.datasets import load_breast_cancer\n",
    "from sklearn.neighbors import KNeighborsClassifier\n",
    "from sklearn.model_selection import train_test_split\n",
    "from sklearn.metrics import accuracy_score\n",
    "\n",
    "# データのロード\n",
    "breast = load_breast_cancer()\n",
    "df_breast = pd.DataFrame(data=breast.data,columns=breast.feature_names)\n",
    "df_breast['target'] = breast.target\n",
    "\n",
    "# インスタンス作成\n",
    "clf = KNeighborsClassifier(n_neighbors=3)\n",
    "\n",
    "# 説明変数\n",
    "X = df_breast[breast.feature_names].values\n",
    "\n",
    "# 目的変数target\n",
    "Y = df_breast['target'].values\n",
    "\n",
    "# データの分割\n",
    "X_train, X_test, y_train, y_test = train_test_split(X, Y, test_size = 0.2,random_state=0)\n",
    "\n",
    "# 予測モデルを作成\n",
    "clf.fit(X_train, y_train)\n",
    "\n",
    "# 精度算出\n",
    "accuracy_score(y_test,clf.predict(X_test))"
   ]
  },
  {
   "cell_type": "code",
   "execution_count": 2,
   "metadata": {},
   "outputs": [
    {
     "name": "stdout",
     "output_type": "stream",
     "text": [
      "KNeighborsRegressor()\n"
     ]
    }
   ],
   "source": [
    "########## K近傍法を使った回帰\n",
    "# ライブラリのインポート\n",
    "import pandas as pd\n",
    "from sklearn.datasets import load_diabetes\n",
    "from sklearn.neighbors import KNeighborsRegressor\n",
    "from sklearn.model_selection import train_test_split\n",
    "\n",
    "# データのロード\n",
    "diabetes = load_diabetes()\n",
    "df_diabetes = pd.DataFrame(data=diabetes.data,columns=diabetes.feature_names)\n",
    "df_diabetes['target'] = diabetes.target\n",
    "\n",
    "# インスタンス作成\n",
    "clf = KNeighborsRegressor()\n",
    "\n",
    "# 説明変数\n",
    "X = df_diabetes[diabetes.feature_names].values\n",
    "\n",
    "# 目的変数target\n",
    "Y = df_diabetes['target'].values\n",
    "\n",
    "# データの分割\n",
    "X_train, X_test, y_train, y_test = train_test_split(X, Y, test_size = 0.2,random_state=0)\n",
    "\n",
    "# 予測モデルを作成\n",
    "clf.fit(X_train, y_train)\n",
    "\n",
    "# 作成したモデルの表示\n",
    "print(clf)"
   ]
  },
  {
   "cell_type": "markdown",
   "metadata": {},
   "source": [
    "# 教師なし学習"
   ]
  },
  {
   "cell_type": "markdown",
   "metadata": {},
   "source": [
    "## PCA"
   ]
  },
  {
   "cell_type": "code",
   "execution_count": null,
   "metadata": {},
   "outputs": [],
   "source": [
    "# 【PCA()の引数】\n",
    "#     引数n_components:圧縮後の次元数\n",
    "#     引数copy:Falseの場合、変換するデータを上書きする（デフォルトはTrue）\n",
    "#     引数whiten: Trueの場合、白色化とよばれる、変数間の相関をなくす処理を行う（デフォルトはFalse）\n",
    "#     引数svd_solver: 特異値分解のソルバ('auto', 'full', 'arpack', 'randomized')\n",
    "#     引数random_state: 乱数\n",
    "\n",
    "# 【クラスのメソッド】\n",
    "#     fit(X):学習の実行\n",
    "#     fit_transform(X):PCA変換\n",
    "#     transform(X): fitやfit_transformで定義したPCA変換\n",
    "#     sinverse_transform(X): PCAの逆変換"
   ]
  },
  {
   "cell_type": "code",
   "execution_count": 3,
   "metadata": {},
   "outputs": [
    {
     "name": "stdout",
     "output_type": "stream",
     "text": [
      "(150, 4)\n",
      "(150, 3)\n"
     ]
    }
   ],
   "source": [
    "########## PCAを使った次元削減\n",
    "# ライブラリのインポート\n",
    "from sklearn.datasets import load_iris\n",
    "from sklearn.decomposition import PCA\n",
    "\n",
    "# データの準備\n",
    "iris = load_iris()\n",
    "X = iris.data\n",
    "y = iris.target\n",
    "\n",
    "# 次元削減前\n",
    "print(X.shape)\n",
    "\n",
    "# インスタンス作成からPCA実行\n",
    "pca = PCA(n_components=3)\n",
    "pca.fit(X)\n",
    "X_ = pca.transform(X)\n",
    "\n",
    "# 次元削減後\n",
    "print(X_.shape)"
   ]
  },
  {
   "cell_type": "markdown",
   "metadata": {},
   "source": [
    "## k-means"
   ]
  },
  {
   "cell_type": "code",
   "execution_count": null,
   "metadata": {},
   "outputs": [],
   "source": [
    "# 【k-means()の引数】\n",
    "#     引数n_clusters: クラスタ数(デフォルトは8)\n",
    "#     引数max_iter:繰り返し回数の最大(デフォルトは300)\n",
    "#     引数n_init: 初期値選択において、異なる乱数のシードで初期の重心を選ぶ処理の実行回数(デフォルトは10)\n",
    "#     引数init: 初期化の方法('k-means++', 'random')(デフォルトは'k-means++')\n",
    "#     引数tol:収束判定に用いる許容可能誤差(デフォルトは0.0001)\n",
    "#     引数random_state: 乱数\n",
    "#     引数copy_x: メモリ内でデータを複製してから実行するかどうか(デフォルトはTrue)\n",
    "#     引数n_jobs: 並列処理する場合の多重度（デフォルトは1）\n",
    "\n",
    "# 【クラスのメソッド】\n",
    "#     fit(X):クラスタリングの計算の実行\n",
    "#     fit_predict(X):各サンプルに対する、クラスタ番号を求める\n",
    "#     fit_transform(X): クラスタリングの計算を行い、Xを分析に用いた距離空間に変換して返す\n",
    "#     predict(X): Xのサンプルが属しているクラスタ番号を返す\n",
    "#     inertia_: 各クラスター内の二乗誤差を返す"
   ]
  },
  {
   "cell_type": "code",
   "execution_count": 5,
   "metadata": {},
   "outputs": [
    {
     "name": "stdout",
     "output_type": "stream",
     "text": [
      "[1 1 1 1 1 1 1 1 1 1 1 1 1 1 1 1 1 1 1 1 1 1 1 1 1 1 1 1 1 1 1 1 1 1 1 1 1\n",
      " 1 1 1 1 1 1 1 1 1 1 1 1 1 2 0 2 0 0 0 0 0 0 0 0 0 0 0 0 0 0 0 0 0 0 0 0 0\n",
      " 0 0 0 2 0 0 0 0 0 0 0 0 0 0 0 0 0 0 0 0 0 0 0 0 0 0 2 0 2 2 2 2 0 2 2 2 2\n",
      " 2 2 0 0 2 2 2 2 0 2 0 2 0 2 2 0 0 2 2 2 2 2 0 2 2 2 2 0 2 2 2 0 2 2 2 0 2\n",
      " 2 0]\n"
     ]
    },
    {
     "name": "stderr",
     "output_type": "stream",
     "text": [
      "c:\\Users\\nakamura\\anaconda3\\lib\\site-packages\\sklearn\\cluster\\_kmeans.py:1436: UserWarning: KMeans is known to have a memory leak on Windows with MKL, when there are less chunks than available threads. You can avoid it by setting the environment variable OMP_NUM_THREADS=1.\n",
      "  warnings.warn(\n"
     ]
    }
   ],
   "source": [
    "########## k-meansを使ったクラスタリング（分類）\n",
    "# ライブラリのインポート\n",
    "from sklearn.datasets import load_iris\n",
    "from sklearn.cluster import KMeans\n",
    "\n",
    "# データの準備\n",
    "iris = load_iris()\n",
    "X = iris.data\n",
    "y = iris.target\n",
    "\n",
    "# インスタンス作成\n",
    "kms = KMeans(n_clusters=3,random_state=0, n_init='auto') # n_initは設定しないと警告出る\n",
    "\n",
    "# クラスタリング実行\n",
    "print(kms.fit_predict(X))"
   ]
  },
  {
   "cell_type": "code",
   "execution_count": 7,
   "metadata": {},
   "outputs": [
    {
     "name": "stderr",
     "output_type": "stream",
     "text": [
      "c:\\Users\\nakamura\\anaconda3\\lib\\site-packages\\sklearn\\cluster\\_kmeans.py:1436: UserWarning: KMeans is known to have a memory leak on Windows with MKL, when there are less chunks than available threads. You can avoid it by setting the environment variable OMP_NUM_THREADS=1.\n",
      "  warnings.warn(\n",
      "c:\\Users\\nakamura\\anaconda3\\lib\\site-packages\\sklearn\\cluster\\_kmeans.py:1436: UserWarning: KMeans is known to have a memory leak on Windows with MKL, when there are less chunks than available threads. You can avoid it by setting the environment variable OMP_NUM_THREADS=1.\n",
      "  warnings.warn(\n",
      "c:\\Users\\nakamura\\anaconda3\\lib\\site-packages\\sklearn\\cluster\\_kmeans.py:1436: UserWarning: KMeans is known to have a memory leak on Windows with MKL, when there are less chunks than available threads. You can avoid it by setting the environment variable OMP_NUM_THREADS=1.\n",
      "  warnings.warn(\n",
      "c:\\Users\\nakamura\\anaconda3\\lib\\site-packages\\sklearn\\cluster\\_kmeans.py:1436: UserWarning: KMeans is known to have a memory leak on Windows with MKL, when there are less chunks than available threads. You can avoid it by setting the environment variable OMP_NUM_THREADS=1.\n",
      "  warnings.warn(\n",
      "c:\\Users\\nakamura\\anaconda3\\lib\\site-packages\\sklearn\\cluster\\_kmeans.py:1436: UserWarning: KMeans is known to have a memory leak on Windows with MKL, when there are less chunks than available threads. You can avoid it by setting the environment variable OMP_NUM_THREADS=1.\n",
      "  warnings.warn(\n",
      "c:\\Users\\nakamura\\anaconda3\\lib\\site-packages\\sklearn\\cluster\\_kmeans.py:1436: UserWarning: KMeans is known to have a memory leak on Windows with MKL, when there are less chunks than available threads. You can avoid it by setting the environment variable OMP_NUM_THREADS=1.\n",
      "  warnings.warn(\n",
      "c:\\Users\\nakamura\\anaconda3\\lib\\site-packages\\sklearn\\cluster\\_kmeans.py:1436: UserWarning: KMeans is known to have a memory leak on Windows with MKL, when there are less chunks than available threads. You can avoid it by setting the environment variable OMP_NUM_THREADS=1.\n",
      "  warnings.warn(\n",
      "c:\\Users\\nakamura\\anaconda3\\lib\\site-packages\\sklearn\\cluster\\_kmeans.py:1436: UserWarning: KMeans is known to have a memory leak on Windows with MKL, when there are less chunks than available threads. You can avoid it by setting the environment variable OMP_NUM_THREADS=1.\n",
      "  warnings.warn(\n",
      "c:\\Users\\nakamura\\anaconda3\\lib\\site-packages\\sklearn\\cluster\\_kmeans.py:1436: UserWarning: KMeans is known to have a memory leak on Windows with MKL, when there are less chunks than available threads. You can avoid it by setting the environment variable OMP_NUM_THREADS=1.\n",
      "  warnings.warn(\n",
      "c:\\Users\\nakamura\\anaconda3\\lib\\site-packages\\sklearn\\cluster\\_kmeans.py:1436: UserWarning: KMeans is known to have a memory leak on Windows with MKL, when there are less chunks than available threads. You can avoid it by setting the environment variable OMP_NUM_THREADS=1.\n",
      "  warnings.warn(\n"
     ]
    },
    {
     "data": {
      "image/png": "[encoded data removed]",
      "text/plain": [
       "<Figure size 432x288 with 1 Axes>"
      ]
     },
     "metadata": {
      "needs_background": "light"
     },
     "output_type": "display_data"
    }
   ],
   "source": [
    "########## エルボー法を使ったk-meansクラスタリング\n",
    "# エルボー法とは正解ラベルがわかっていない状態で、データの適切なクラスタ数を推定する手法\n",
    "# ライブラリのインポート\n",
    "import matplotlib.pyplot as plt\n",
    "import numpy as np\n",
    "import pandas as pd\n",
    "from sklearn.cluster import KMeans\n",
    "from sklearn.datasets import load_iris,load_wine\n",
    "\n",
    "# データセットの作成\n",
    "iris = load_iris()\n",
    "X = iris.data\n",
    "Y = iris.target\n",
    "\n",
    "# エルボー法の実施\n",
    "distortions = []\n",
    "\n",
    "# クラスター数1~10を一気に計算\n",
    "for i in range(1, 11):\n",
    "    km = KMeans(n_clusters=i, n_init='auto')\n",
    "    # クラスタリングの実行\n",
    "    km.fit(X)\n",
    "    # 各々のクラスタでの誤差を算出し、リストに格納\n",
    "    distortions.append(km.inertia_)\n",
    "\n",
    "# グラフのプロット\n",
    "plt.plot(range(1, 11), distortions, marker=\"o\")\n",
    "plt.xticks(np.arange(1, 11, 1))\n",
    "plt.xlabel(\"Number_of_clusters\")\n",
    "plt.ylabel(\"Distortion\")\n",
    "plt.show()"
   ]
  },
  {
   "cell_type": "markdown",
   "metadata": {},
   "source": [
    "## t-SNE"
   ]
  },
  {
   "cell_type": "code",
   "execution_count": null,
   "metadata": {},
   "outputs": [],
   "source": [
    "# 【TSNE()の引数】\n",
    "#     引数n_components:削減次元数(デフォルトは2)\n",
    "#     引数perplexity:最近傍の数(デフォルトは30)\n",
    "#     引数early_exaggeration:密集度合の設定(デフォルトは12.0)\n",
    "#     引数learning_rate:t-SNEの学習率(デフォルトは200.0)\n",
    "#     引数n_iter:最適化の最大反復回数(デフォルトは1000)\n",
    "#     引数random_state: 乱数\n",
    "#     引数n_jobs: 並列処理する場合の多重度（デフォルトは1）\n",
    "\n",
    "# 【クラスのメソッド】\n",
    "#     fit(X):計算の実行\n",
    "#     fit_transform(X): 変換された出力を表示する\n",
    "#     gets_params: パラメータの取得\n",
    "#     set_params: パラメータの設定"
   ]
  },
  {
   "cell_type": "code",
   "execution_count": 8,
   "metadata": {},
   "outputs": [
    {
     "name": "stdout",
     "output_type": "stream",
     "text": [
      "(150, 4)\n",
      "(150, 2)\n"
     ]
    }
   ],
   "source": [
    "########## t-SNEを使った次元圧縮\n",
    "# ライブラリのインポート\n",
    "from sklearn.datasets import load_iris\n",
    "from sklearn.manifold import TSNE\n",
    "\n",
    "# データの準備\n",
    "iris = load_iris()\n",
    "X = iris.data\n",
    "y = iris.target\n",
    "\n",
    "# 次元削減前\n",
    "print(X.shape)\n",
    "\n",
    "# インスタンス作成\n",
    "tsne = TSNE(n_components=2,random_state=0)\n",
    "\n",
    "# 次元削減後\n",
    "print(tsne.fit_transform(X).shape)"
   ]
  },
  {
   "cell_type": "markdown",
   "metadata": {},
   "source": [
    "# 機械学習モデルの評価"
   ]
  },
  {
   "cell_type": "markdown",
   "metadata": {},
   "source": [
    "## 分類問題に対しての評価 "
   ]
  },
  {
   "cell_type": "code",
   "execution_count": 9,
   "metadata": {},
   "outputs": [
    {
     "name": "stdout",
     "output_type": "stream",
     "text": [
      "0.5\n"
     ]
    }
   ],
   "source": [
    "########## AccuracyScore\n",
    "# ライブラリのインポート\n",
    "from sklearn.metrics import accuracy_score\n",
    "\n",
    "# 予測ラベル\n",
    "y_pred = [0, 2, 1, 3]\n",
    "\n",
    "# 正解ラベル\n",
    "y_true = [0, 1, 2, 3]\n",
    "\n",
    "# accuracyの算出\n",
    "print(accuracy_score(y_true, y_pred))"
   ]
  },
  {
   "cell_type": "code",
   "execution_count": 10,
   "metadata": {},
   "outputs": [
    {
     "name": "stdout",
     "output_type": "stream",
     "text": [
      "[[46  1]\n",
      " [ 3 64]]\n"
     ]
    },
    {
     "data": {
      "image/png": "[encoded data removed]",
      "text/plain": [
       "<Figure size 432x288 with 2 Axes>"
      ]
     },
     "metadata": {
      "needs_background": "light"
     },
     "output_type": "display_data"
    }
   ],
   "source": [
    "########## ConfusionMatrix【混合行列】\n",
    "\n",
    "    # 真陽性（TP: True Positive）: 実際のクラスが陽性で予測も陽性（正解）\n",
    "    # 真陰性（TN: True Negative）: 実際のクラスが陰性で予測も陰性（正解）\n",
    "    # 偽陽性（FP: False Positive）: 実際のクラスは陰性で予測が陽性（不正解）\n",
    "    # 偽陰性（FN: False Negative）: 実際のクラスは陽性で予測が陰性（不正解）\n",
    "#  \t\t予測 \t\n",
    "# \t\tNegative \tPositive\n",
    "# 実際 \tNegative \tTN \tFP\n",
    "# \t \tPositive \tFN \tTP\n",
    "\n",
    "# ライブラリのインポート\n",
    "import pandas as pd\n",
    "import seaborn as sns\n",
    "import matplotlib.pyplot as plt\n",
    "from sklearn.datasets import load_breast_cancer\n",
    "from sklearn.ensemble import RandomForestClassifier\n",
    "from sklearn.model_selection import train_test_split\n",
    "from sklearn.metrics import accuracy_score,confusion_matrix\n",
    "\n",
    "# データのロード\n",
    "breast = load_breast_cancer()\n",
    "df_breast = pd.DataFrame(data=breast.data,columns=breast.feature_names)\n",
    "df_breast['target'] = breast.target\n",
    "\n",
    "# インスタンス作成\n",
    "clf = RandomForestClassifier(random_state=0)\n",
    "\n",
    "# 説明変数\n",
    "X = df_breast[breast.feature_names].values\n",
    "\n",
    "# 目的変数target\n",
    "Y = df_breast['target'].values\n",
    "\n",
    "# データの分割\n",
    "X_train, X_test, y_train, y_test = train_test_split(X, Y, test_size = 0.2,random_state=0)\n",
    "\n",
    "# 予測モデルを作成\n",
    "clf.fit(X_train, y_train)\n",
    "\n",
    "# 推定ラベル\n",
    "y_pred = clf.predict(X_test)\n",
    "\n",
    "# 混合行列の作成\n",
    "cm = confusion_matrix(y_test, y_pred)\n",
    "print(cm)\n",
    "\n",
    "# ヒートマップの作成\n",
    "sns.heatmap(cm, annot=True,cmap='Blues')\n",
    "plt.show()"
   ]
  },
  {
   "cell_type": "code",
   "execution_count": 11,
   "metadata": {},
   "outputs": [
    {
     "name": "stdout",
     "output_type": "stream",
     "text": [
      "              precision    recall  f1-score   support\n",
      "\n",
      "     class 0       0.50      1.00      0.67         1\n",
      "     class 1       0.00      0.00      0.00         1\n",
      "     class 2       1.00      0.67      0.80         3\n",
      "\n",
      "    accuracy                           0.60         5\n",
      "   macro avg       0.50      0.56      0.49         5\n",
      "weighted avg       0.70      0.60      0.61         5\n",
      "\n"
     ]
    }
   ],
   "source": [
    "########## ClassificationReport\n",
    "# ClassificationReportは分類問題の結果を様々な指標を元に集計したテキストレポート\n",
    "# ライブラリのインポート\n",
    "from sklearn.metrics import classification_report\n",
    "\n",
    "# 正解ラベル\n",
    "y_true = [0, 1, 2, 2, 2]\n",
    "\n",
    "# 推定ラベル\n",
    "y_pred = [0, 0, 2, 2, 1]\n",
    "\n",
    "# 目的変数の各クラス名\n",
    "target_names = ['class 0', 'class 1', 'class 2']\n",
    "\n",
    "print(classification_report(y_true, y_pred, target_names=target_names))"
   ]
  },
  {
   "cell_type": "markdown",
   "metadata": {},
   "source": [
    "## 回帰問題に対しての評価"
   ]
  },
  {
   "cell_type": "code",
   "execution_count": 12,
   "metadata": {},
   "outputs": [
    {
     "name": "stdout",
     "output_type": "stream",
     "text": [
      "49.49213483146069\n"
     ]
    }
   ],
   "source": [
    "########## MeanAbsoluteError【平均絶対誤差】\n",
    "# ライブラリのインポート\n",
    "import pandas as pd\n",
    "from sklearn.datasets import load_diabetes\n",
    "from sklearn.neighbors import KNeighborsRegressor\n",
    "from sklearn.model_selection import train_test_split\n",
    "from sklearn.metrics import mean_absolute_error\n",
    "\n",
    "# データのロード\n",
    "diabetes = load_diabetes()\n",
    "df_diabetes = pd.DataFrame(data=diabetes.data,columns=diabetes.feature_names)\n",
    "df_diabetes['target'] = diabetes.target\n",
    "\n",
    "# インスタンス作成\n",
    "clf = KNeighborsRegressor()\n",
    "\n",
    "# 説明変数\n",
    "X = df_diabetes[diabetes.feature_names].values\n",
    "\n",
    "# 目的変数target\n",
    "Y = df_diabetes['target'].values\n",
    "\n",
    "# データの分割\n",
    "X_train, X_test, y_train, y_test = train_test_split(X, Y, test_size = 0.2,random_state=0)\n",
    "\n",
    "# 予測モデルを作成\n",
    "clf.fit(X_train, y_train)\n",
    "\n",
    "# MAE算出\n",
    "print(mean_absolute_error(y_test, clf.predict(X_test)))"
   ]
  },
  {
   "cell_type": "code",
   "execution_count": 13,
   "metadata": {},
   "outputs": [
    {
     "name": "stdout",
     "output_type": "stream",
     "text": [
      "4243.422022471909\n",
      "65.14155373087065\n"
     ]
    }
   ],
   "source": [
    "########## MeanSquaredError【平均二乗誤差】\n",
    "# ライブラリのインポート\n",
    "import pandas as pd\n",
    "import numpy as np\n",
    "from sklearn.metrics import mean_squared_error\n",
    "from sklearn.datasets import load_diabetes\n",
    "from sklearn.neighbors import KNeighborsRegressor\n",
    "from sklearn.model_selection import train_test_split\n",
    "from sklearn.metrics import mean_squared_error\n",
    "\n",
    "# データのロード\n",
    "diabetes = load_diabetes()\n",
    "df_diabetes = pd.DataFrame(data=diabetes.data,columns=diabetes.feature_names)\n",
    "df_diabetes['target'] = diabetes.target\n",
    "\n",
    "# インスタンス作成\n",
    "clf = KNeighborsRegressor()\n",
    "\n",
    "# 説明変数\n",
    "X = df_diabetes[diabetes.feature_names].values\n",
    "\n",
    "# 目的変数target\n",
    "Y = df_diabetes['target'].values\n",
    "\n",
    "# データの分割\n",
    "X_train, X_test, y_train, y_test = train_test_split(X, Y, test_size = 0.2,random_state=0)\n",
    "\n",
    "# 予測モデルを作成\n",
    "clf.fit(X_train, y_train)\n",
    "\n",
    "# MSE算出\n",
    "print(mean_squared_error(y_test, clf.predict(X_test)))\n",
    "\n",
    "# RMSE算出\n",
    "print(np.sqrt(mean_squared_error(y_test, clf.predict(X_test))))\n"
   ]
  },
  {
   "cell_type": "code",
   "execution_count": 14,
   "metadata": {},
   "outputs": [
    {
     "name": "stdout",
     "output_type": "stream",
     "text": [
      "0.19057346847560142\n"
     ]
    }
   ],
   "source": [
    "########## R²Score【決定係数】\n",
    "# ライブラリのインポート\n",
    "import pandas as pd\n",
    "from sklearn.datasets import load_diabetes\n",
    "from sklearn.linear_model import LinearRegression\n",
    "from sklearn.metrics import r2_score\n",
    "from sklearn.model_selection import train_test_split\n",
    "\n",
    "# データのロード\n",
    "diabetes = load_diabetes()\n",
    "df_diabetes = pd.DataFrame(data=diabetes.data,columns=diabetes.feature_names)\n",
    "df_diabetes['target'] = diabetes.target\n",
    "\n",
    "# インスタンス作成\n",
    "clf = LinearRegression()\n",
    "\n",
    "# 説明変数bmi(肥満度を表す指標)\n",
    "X = df_diabetes['bmi'].values.reshape(-1, 1)\n",
    "\n",
    "# 目的変数target\n",
    "Y = df_diabetes['target'].values\n",
    "\n",
    "# データの分割\n",
    "X_train, X_test, y_train, y_test = train_test_split(X, Y, test_size = 0.2,random_state=0)\n",
    "\n",
    "# 予測モデルを作成\n",
    "clf.fit(X_train, y_train)\n",
    "\n",
    "# R2score算出\n",
    "print(r2_score(y_test, clf.predict(X_test)))\n"
   ]
  }
 ],
 "metadata": {
  "kernelspec": {
   "display_name": "base",
   "language": "python",
   "name": "python3"
  },
  "language_info": {
   "codemirror_mode": {
    "name": "ipython",
    "version": 3
   },
   "file_extension": ".py",
   "mimetype": "text/x-python",
   "name": "python",
   "nbconvert_exporter": "python",
   "pygments_lexer": "ipython3",
   "version": "3.9.7"
  }
 },
 "nbformat": 4,
 "nbformat_minor": 2
}
