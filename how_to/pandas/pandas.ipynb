{
 "cells": [
  {
   "cell_type": "markdown",
   "metadata": {},
   "source": [
    "# pandasを使ったデータ確認\n",
    "https://biz.quest.signate.jp/quests/10007"
   ]
  },
  {
   "cell_type": "code",
   "execution_count": 24,
   "metadata": {},
   "outputs": [
    {
     "name": "stdout",
     "output_type": "stream",
     "text": [
      "     No.                    施設名                         施設名（英語）      郵便番号  \\\n",
      "0      1                  藍染保育園     Aizome Child Daycare Center  113-0031   \n",
      "1      2                  久堅保育園   Hisakata Child Daycare Center  112-0002   \n",
      "2      3                  青柳保育園     Aoyagi Child Daycare Center  112-0014   \n",
      "3      4                さしがや保育園  Sashigaya Child Daycare Center  112-0001   \n",
      "4      5                  駒込保育園   Komagome Child Daycare Center  113-0022   \n",
      "..   ...                    ...                             ...       ...   \n",
      "122  123          家庭的保育室プチ・アンジュ                             NaN  112-0003   \n",
      "123  124  国立大学法人東京医科歯科大学わくわく保育園                             NaN  113-0034   \n",
      "124  125        ちいさいおうち春日とモーハウス                             NaN  112-0003   \n",
      "125  126                 モニカ茗荷谷                             NaN  112-0002   \n",
      "126  127            グローバルキッズ春日園                             NaN  112-0003   \n",
      "\n",
      "                                住所         緯度          経度          電話番号  \\\n",
      "0                東京都文京区根津2丁目34番15号  35.721173  139.763273  03-3828-5509   \n",
      "1                東京都文京区小石川五丁目27番7号  35.718614  139.741553  03-3811-0712   \n",
      "2                  東京都文京区関口3丁目2番5号  35.713468  139.729158  03-3941-4518   \n",
      "3                 東京都文京区白山2丁目32番6号  35.718104  139.749759  03-3811-3474   \n",
      "4               東京都文京区千駄木3丁目19番17号  35.729655  139.760630  03-3821-8800   \n",
      "..                             ...        ...         ...           ...   \n",
      "122  東京都文京区春日2丁目4番15号 スタート21 103号室  35.710143  139.743409  03-3812-2568   \n",
      "123           東京都文京区湯島1丁目5番45号　6号館  35.701696  139.764209  03-5803-4654   \n",
      "124               東京都文京区春日2丁目25番3号  35.709932  139.745678  03-6801-5211   \n",
      "125   東京都文京区小石川4丁目20番5号グリーンヒル小石川2Ｆ  35.714611  139.740818  03-5803‐7577   \n",
      "126              東京都文京区春日1丁目11番18号  35.709876  139.747398  03-3814‐0202   \n",
      "\n",
      "     カテゴリ１     カテゴリ２         FAX番号  合計園児定員（名）  ０歳児定員（名）  １歳児定員（名）  ２歳児定員（名）  \\\n",
      "0    区立保育園     認可保育園  03-5685-4645         87       0.0      12.0      15.0   \n",
      "1    区立保育園     認可保育園  03-5689-4504        123      12.0      20.0      22.0   \n",
      "2    区立保育園     認可保育園  03-3945-9340         95       9.0      14.0      18.0   \n",
      "3    区立保育園     認可保育園  03-5689-4506        128      12.0      21.0      23.0   \n",
      "4    区立保育園     認可保育園  03-5685-4806         93       0.0      15.0      18.0   \n",
      "..     ...       ...           ...        ...       ...       ...       ...   \n",
      "122  私立保育園   家庭的保育事業  03-3812-2568          3       1.0       1.0       1.0   \n",
      "123  私立保育園  事業所内保育事業  03-5803-0371          6       2.0       2.0       2.0   \n",
      "124  私立保育園  事業所内保育事業  03-6801-5211         13       3.0       5.0       5.0   \n",
      "125  私立保育園     認証保育所  03-5800-5766         30       6.0       9.0      15.0   \n",
      "126  私立保育園     認証保育所  03-3814‐0202         32       6.0      14.0      12.0   \n",
      "\n",
      "     ３歳児定員（名）  ４・５歳児定員（名）  説明（日本語）  説明（英語）  \n",
      "0        20.0        40.0      NaN     NaN  \n",
      "1        23.0        46.0      NaN     NaN  \n",
      "2        18.0        36.0      NaN     NaN  \n",
      "3        24.0        48.0      NaN     NaN  \n",
      "4        20.0        40.0      NaN     NaN  \n",
      "..        ...         ...      ...     ...  \n",
      "122       NaN         NaN      NaN     NaN  \n",
      "123       NaN         NaN      NaN     NaN  \n",
      "124       NaN         NaN      NaN     NaN  \n",
      "125       NaN         NaN      NaN     NaN  \n",
      "126       NaN         NaN      NaN     NaN  \n",
      "\n",
      "[127 rows x 19 columns]\n"
     ]
    }
   ],
   "source": [
    "import pandas as pd\n",
    "hoikuen = pd.read_csv('hoikuen.csv',encoding='shift_jis')\n",
    "print(hoikuen)"
   ]
  },
  {
   "cell_type": "code",
   "execution_count": 6,
   "metadata": {},
   "outputs": [
    {
     "name": "stdout",
     "output_type": "stream",
     "text": [
      "19\n"
     ]
    }
   ],
   "source": [
    "######## データの基本統計量確認\n",
    "import pandas as pd\n",
    "hoikuen = pd.read_csv('hoikuen.csv',encoding='shift_jis')\n",
    "\n",
    "# 保育園のデータの列数を出力\n",
    "print(len(hoikuen.columns))\n",
    "\n",
    "# 保育園のデータの列名リストをcols_listに代入\n",
    "cols_list = hoikuen.columns"
   ]
  },
  {
   "cell_type": "code",
   "execution_count": null,
   "metadata": {},
   "outputs": [],
   "source": [
    "######## データの並び替え\n",
    "import pandas as pd\n",
    "hoikuen = pd.read_csv('hoikuen.csv',encoding='shift_jis')\n",
    "\n",
    "hoikuen.sort_values(by=['カテゴリ１', 'カテゴリ２'],ascending=[True,True])\n",
    "print(hoikuen)"
   ]
  },
  {
   "cell_type": "code",
   "execution_count": 14,
   "metadata": {},
   "outputs": [
    {
     "name": "stdout",
     "output_type": "stream",
     "text": [
      "施設名                              青柳保育園\n",
      "施設名（英語）    Aoyagi Child Daycare Center\n",
      "Name: 2, dtype: object\n"
     ]
    }
   ],
   "source": [
    "######## データの選択を行う1\n",
    "import pandas as pd\n",
    "hoikuen = pd.read_csv('hoikuen.csv',encoding='shift_jis')\n",
    "\n",
    "# 公私区分と認可区分以外の列を抽出し、df1に代入\n",
    "df1 = hoikuen[['No.', '施設名', '合計園児定員（名）', '０歳児定員（名）', '１歳児定員（名）','２歳児定員（名）', '３歳児定員（名）', '４・５歳児定員（名）']]\n",
    "# 1−2行目と5行目を抽出し、df2\n",
    "df2 = hoikuen.iloc[[0,1,4]]\n",
    "# 3行目の施設名と公私区分の列を抽出し、Series型としてser3に代入\n",
    "ser3 = ser3 = hoikuen.iloc[2][[1,2]]\n",
    "print(ser3)"
   ]
  },
  {
   "cell_type": "code",
   "execution_count": null,
   "metadata": {},
   "outputs": [],
   "source": [
    "######## データの選択を行う2\n",
    "import pandas as pd\n",
    "hoikuen = pd.read_csv('hoikuen.csv',encoding='shift_jis')\n",
    "print(len(hoikuen))\n",
    "print(hoikuen)\n",
    "print(hoikuen[hoikuen['施設名'].str.contains('保育園')]) # 文字列の要素に対してある文字列を含むデータを抽出"
   ]
  },
  {
   "cell_type": "code",
   "execution_count": 19,
   "metadata": {},
   "outputs": [
    {
     "data": {
      "text/html": [
       "<div>\n",
       "<style scoped>\n",
       "    .dataframe tbody tr th:only-of-type {\n",
       "        vertical-align: middle;\n",
       "    }\n",
       "\n",
       "    .dataframe tbody tr th {\n",
       "        vertical-align: top;\n",
       "    }\n",
       "\n",
       "    .dataframe thead tr th {\n",
       "        text-align: left;\n",
       "    }\n",
       "\n",
       "    .dataframe thead tr:last-of-type th {\n",
       "        text-align: right;\n",
       "    }\n",
       "</style>\n",
       "<table border=\"1\" class=\"dataframe\">\n",
       "  <thead>\n",
       "    <tr>\n",
       "      <th></th>\n",
       "      <th colspan=\"4\" halign=\"left\">２歳児定員（名）</th>\n",
       "      <th colspan=\"4\" halign=\"left\">４・５歳児定員（名）</th>\n",
       "    </tr>\n",
       "    <tr>\n",
       "      <th></th>\n",
       "      <th>count</th>\n",
       "      <th>max</th>\n",
       "      <th>min</th>\n",
       "      <th>sum</th>\n",
       "      <th>count</th>\n",
       "      <th>max</th>\n",
       "      <th>min</th>\n",
       "      <th>sum</th>\n",
       "    </tr>\n",
       "    <tr>\n",
       "      <th>カテゴリ１</th>\n",
       "      <th></th>\n",
       "      <th></th>\n",
       "      <th></th>\n",
       "      <th></th>\n",
       "      <th></th>\n",
       "      <th></th>\n",
       "      <th></th>\n",
       "      <th></th>\n",
       "    </tr>\n",
       "  </thead>\n",
       "  <tbody>\n",
       "    <tr>\n",
       "      <th>区立保育園</th>\n",
       "      <td>21</td>\n",
       "      <td>25.0</td>\n",
       "      <td>8.0</td>\n",
       "      <td>370.0</td>\n",
       "      <td>20</td>\n",
       "      <td>60.0</td>\n",
       "      <td>0.0</td>\n",
       "      <td>777.0</td>\n",
       "    </tr>\n",
       "    <tr>\n",
       "      <th>私立保育園</th>\n",
       "      <td>105</td>\n",
       "      <td>18.0</td>\n",
       "      <td>1.0</td>\n",
       "      <td>1051.0</td>\n",
       "      <td>71</td>\n",
       "      <td>50.0</td>\n",
       "      <td>0.0</td>\n",
       "      <td>1915.0</td>\n",
       "    </tr>\n",
       "  </tbody>\n",
       "</table>\n",
       "</div>"
      ],
      "text/plain": [
       "      ２歳児定員（名）                    ４・５歳児定員（名）                   \n",
       "         count   max  min     sum      count   max  min     sum\n",
       "カテゴリ１                                                          \n",
       "区立保育園       21  25.0  8.0   370.0         20  60.0  0.0   777.0\n",
       "私立保育園      105  18.0  1.0  1051.0         71  50.0  0.0  1915.0"
      ]
     },
     "execution_count": 19,
     "metadata": {},
     "output_type": "execute_result"
    }
   ],
   "source": [
    "######## データの集約の確認\n",
    "import pandas as pd\n",
    "hoikuen = pd.read_csv('hoikuen.csv',encoding='shift_jis')\n",
    "hoikuen.groupby(['カテゴリ１']).agg(['count','max', 'min', 'sum'])[['２歳児定員（名）','４・５歳児定員（名）']]"
   ]
  },
  {
   "cell_type": "code",
   "execution_count": 22,
   "metadata": {},
   "outputs": [
    {
     "name": "stdout",
     "output_type": "stream",
     "text": [
      "<class 'pandas.core.frame.DataFrame'>\n",
      "         ０歳児定員（名）    １歳児定員（名）\n",
      "count  113.000000  126.000000\n",
      "mean     6.663717   10.079365\n",
      "std      3.121385    4.194479\n",
      "min      0.000000    1.000000\n",
      "25%      6.000000    8.000000\n",
      "50%      6.000000   10.000000\n",
      "75%      9.000000   12.000000\n",
      "max     18.000000   23.000000\n"
     ]
    }
   ],
   "source": [
    "######## データの要約統計量の確認\n",
    "import pandas as pd\n",
    "hoikuen = pd.read_csv('hoikuen.csv',encoding='shift_jis')\n",
    "\n",
    "print(type(hoikuen.describe()))\n",
    "df1 = hoikuen.describe()[['０歳児定員（名）','１歳児定員（名）']]\n",
    "print(df1)"
   ]
  },
  {
   "cell_type": "markdown",
   "metadata": {},
   "source": [
    "# pandasを使ったデータ操作"
   ]
  },
  {
   "cell_type": "code",
   "execution_count": 25,
   "metadata": {},
   "outputs": [],
   "source": [
    "######## 新しい列、行の追加\n",
    "import pandas as pd\n",
    "hoikuen = pd.read_csv('hoikuen.csv',encoding='shift_jis')\n",
    "\n",
    "# データの末尾に追加\n",
    "# 例とやつとデータ構成が異なっておりエラーとなるのでコメントアウト\n",
    "# hoikuen.loc[58] = [59, 'SIGNATE保育園', '区立保育園', '認可保育園', 100, 20.0, 20.0, 20.0, 20.0, 20.0]\n",
    "# df1 = hoikuen.copy()\n",
    "\n",
    "# 新しい列所属区を追加し、値は文京区の文字列を追加\n",
    "hoikuen['所属区'] = '文京区'\n",
    "df2 = hoikuen.copy()"
   ]
  },
  {
   "cell_type": "code",
   "execution_count": 26,
   "metadata": {},
   "outputs": [],
   "source": [
    "######## 既存の列、行の削除とデータの修正\n",
    "import pandas as pd\n",
    "hoikuen = pd.read_csv('hoikuen.csv',encoding='shift_jis')\n",
    "\n",
    "# 園児の定員に関するカラムを全て削除し、hoikuen_copy1に読み込み\n",
    "hoikuen_copy1 = hoikuen[[col for col in hoikuen.columns if '定員' not in col]]\n",
    "\n",
    "# 施設名が久堅保育園であるデータを削除し、hoikuen_copy2に読み込み\n",
    "hoikuen_copy2 = hoikuen[hoikuen['施設名'] !='久堅保育園']"
   ]
  },
  {
   "cell_type": "code",
   "execution_count": null,
   "metadata": {},
   "outputs": [],
   "source": [
    "######## データの結合例\n",
    "# データ構成が異なっているので\n",
    "# import pandas as pd\n",
    "# hoikuen = pd.read_csv('hoikuen.csv',encoding='shift_jis')\n",
    "# hoikuen_detail = pd.read_csv('hoikuen_dummy_detail.csv',encoding='shift_jis')\n",
    "\n",
    "# df_all = pd.merge(hoikuen,hoikuen_detail)\n",
    "\n",
    "# print(df_all[df_all['土日祝日対応可否']=='可'].shape[0])\n",
    "\n",
    "# df_all['園児1人あたりの最低保育士人数'] = df_all['最低保育士人数']/df_all['合計園児定員']\n",
    "# print(df_all[df_all['施設名']=='藍染保育園']['園児1人あたりの最低保育士人数'])\n",
    "\n",
    "# print(df_all[df_all['施設名']=='モニカ茗荷谷']['補助有無'])"
   ]
  },
  {
   "cell_type": "markdown",
   "metadata": {},
   "source": [
    "# pandasでのデータ可視化"
   ]
  },
  {
   "cell_type": "code",
   "execution_count": 1,
   "metadata": {},
   "outputs": [
    {
     "name": "stderr",
     "output_type": "stream",
     "text": [
      "c:\\Users\\nakamura\\anaconda3\\lib\\site-packages\\scipy\\__init__.py:146: UserWarning: A NumPy version >=1.16.5 and <1.23.0 is required for this version of SciPy (detected version 1.25.2\n",
      "  warnings.warn(f\"A NumPy version >={np_minversion} and <{np_maxversion}\"\n"
     ]
    },
    {
     "data": {
      "image/png": "[encoded data removed]",
      "text/plain": [
       "<Figure size 432x288 with 4 Axes>"
      ]
     },
     "metadata": {
      "needs_background": "light"
     },
     "output_type": "display_data"
    },
    {
     "data": {
      "image/png": "[encoded data removed]",
      "text/plain": [
       "<Figure size 432x288 with 1 Axes>"
      ]
     },
     "metadata": {
      "needs_background": "light"
     },
     "output_type": "display_data"
    }
   ],
   "source": [
    "######## pandasでのデータ可視化\n",
    "import matplotlib.pyplot as plt\n",
    "import pandas as pd\n",
    "from sklearn.datasets import load_iris\n",
    "iris = load_iris()\n",
    "df_iris = pd.DataFrame(iris.data, columns=iris.feature_names)\n",
    "df_iris['target'] = iris.target\n",
    "df_iris.loc[df_iris['target'] == 0, 'target'] = \"setosa\"\n",
    "df_iris.loc[df_iris['target'] == 1, 'target'] = \"versicolor\"\n",
    "df_iris.loc[df_iris['target'] == 2, 'target'] = \"virginica\"\n",
    "\n",
    "# Q1\n",
    "df_iris_setosa = df_iris[df_iris['target']==\"setosa\"]\n",
    "df_iris_setosa.plot(subplots=True,sharey=True)\n",
    "plt.show()\n",
    "\n",
    "# Q2\n",
    "df_iris.plot(y='sepal length (cm)',grid=True,legend=True)\n",
    "plt.show()\n"
   ]
  },
  {
   "cell_type": "code",
   "execution_count": 1,
   "metadata": {},
   "outputs": [
    {
     "name": "stderr",
     "output_type": "stream",
     "text": [
      "c:\\Users\\nakamura\\anaconda3\\lib\\site-packages\\scipy\\__init__.py:146: UserWarning: A NumPy version >=1.16.5 and <1.23.0 is required for this version of SciPy (detected version 1.25.2\n",
      "  warnings.warn(f\"A NumPy version >={np_minversion} and <{np_maxversion}\"\n"
     ]
    },
    {
     "data": {
      "image/png": "[encoded data removed]",
      "text/plain": [
       "<Figure size 432x288 with 4 Axes>"
      ]
     },
     "metadata": {
      "needs_background": "light"
     },
     "output_type": "display_data"
    }
   ],
   "source": [
    "######## pandasを使ってのヒストグラム作成\n",
    "# pandasのインポート\n",
    "import matplotlib.pyplot as plt\n",
    "import pandas as pd\n",
    "from sklearn.datasets import load_iris\n",
    "iris = load_iris()\n",
    "df_iris = pd.DataFrame(iris.data, columns=iris.feature_names)\n",
    "df_iris['target'] = iris.target\n",
    "df_iris.loc[df_iris['target'] == 0, 'target'] = \"setosa\"\n",
    "df_iris.loc[df_iris['target'] == 1, 'target'] = \"versicolor\"\n",
    "df_iris.loc[df_iris['target'] == 2, 'target'] = \"virginica\"\n",
    "\n",
    "# Q1\n",
    "df_iris.hist(sharey=True,sharex=True)\n",
    "plt.show()"
   ]
  },
  {
   "cell_type": "code",
   "execution_count": 2,
   "metadata": {},
   "outputs": [
    {
     "data": {
      "image/png": "[encoded data removed]",
      "text/plain": [
       "<Figure size 432x288 with 1 Axes>"
      ]
     },
     "metadata": {
      "needs_background": "light"
     },
     "output_type": "display_data"
    }
   ],
   "source": [
    "######## pandasを使っての棒グラフ作成\n",
    "import matplotlib.pyplot as plt\n",
    "import pandas as pd\n",
    "from sklearn.datasets import load_iris\n",
    "iris = load_iris()\n",
    "df_iris = pd.DataFrame(iris.data, columns=iris.feature_names)\n",
    "df_iris['target'] = iris.target\n",
    "df_iris.loc[df_iris['target'] == 0, 'target'] = \"setosa\"\n",
    "df_iris.loc[df_iris['target'] == 1, 'target'] = \"versicolor\"\n",
    "df_iris.loc[df_iris['target'] == 2, 'target'] = \"virginica\"\n",
    "\n",
    "# Q1\n",
    "df_iris_end5 = df_iris.tail(5)\n",
    "df_iris_end5.plot.bar(grid=True)\n",
    "plt.show()"
   ]
  }
 ],
 "metadata": {
  "kernelspec": {
   "display_name": "base",
   "language": "python",
   "name": "python3"
  },
  "language_info": {
   "codemirror_mode": {
    "name": "ipython",
    "version": 3
   },
   "file_extension": ".py",
   "mimetype": "text/x-python",
   "name": "python",
   "nbconvert_exporter": "python",
   "pygments_lexer": "ipython3",
   "version": "3.9.7"
  }
 },
 "nbformat": 4,
 "nbformat_minor": 2
}
