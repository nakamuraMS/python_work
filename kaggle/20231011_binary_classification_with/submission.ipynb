{
 "cells": [
  {
   "cell_type": "code",
   "execution_count": 1,
   "metadata": {},
   "outputs": [
    {
     "name": "stderr",
     "output_type": "stream",
     "text": [
      "c:\\Users\\nakamura\\anaconda3\\lib\\site-packages\\scipy\\__init__.py:146: UserWarning: A NumPy version >=1.16.5 and <1.23.0 is required for this version of SciPy (detected version 1.25.2\n",
      "  warnings.warn(f\"A NumPy version >={np_minversion} and <{np_maxversion}\"\n"
     ]
    }
   ],
   "source": [
    "# https://www.kaggle.com/competitions/playground-series-s3e23/overview\n",
    "\n",
    "import sys\n",
    "# sys.path.append(\"../utils\")\n",
    "from utils import Util\n",
    "import pandas as pd\n",
    "import numpy as np\n",
    "from matplotlib import pyplot as plt\n",
    "import seaborn as sns\n",
    "\n",
    "train = pd.read_csv(\"./data/train.csv\")\n",
    "test = pd.read_csv(\"./data/test.csv\")\n",
    "sample = pd.read_csv(\"./data/sample_submission.csv\")"
   ]
  },
  {
   "cell_type": "code",
   "execution_count": 3,
   "metadata": {},
   "outputs": [
    {
     "name": "stdout",
     "output_type": "stream",
     "text": [
      "[False False  True ... False False False]\n"
     ]
    },
    {
     "name": "stderr",
     "output_type": "stream",
     "text": [
      "c:\\Users\\nakamura\\anaconda3\\lib\\site-packages\\sklearn\\linear_model\\_logistic.py:460: ConvergenceWarning: lbfgs failed to converge (status=1):\n",
      "STOP: TOTAL NO. of ITERATIONS REACHED LIMIT.\n",
      "\n",
      "Increase the number of iterations (max_iter) or scale the data as shown in:\n",
      "    https://scikit-learn.org/stable/modules/preprocessing.html\n",
      "Please also refer to the documentation for alternative solver options:\n",
      "    https://scikit-learn.org/stable/modules/linear_model.html#logistic-regression\n",
      "  n_iter_i = _check_optimize_result(\n"
     ]
    }
   ],
   "source": [
    "# 1回目 \n",
    "import pandas as pd\n",
    "from sklearn.linear_model import LogisticRegression\n",
    "from sklearn.metrics import accuracy_score\n",
    "from sklearn.model_selection import train_test_split\n",
    "\n",
    "# 特徴量と目的変数の分割\n",
    "X = train.drop('defects', axis=1)\n",
    "y = train['defects']\n",
    "\n",
    "# データの分割\n",
    "X_train, X_val, y_train, y_val = train_test_split(X, y, test_size=0.2, random_state=42, shuffle=True)\n",
    "\n",
    "# モデルの学習\n",
    "model = LogisticRegression(multi_class='multinomial', solver='lbfgs')\n",
    "model.fit(X_train, y_train)\n",
    "\n",
    "# 評価用データの予測\n",
    "X_test = test\n",
    "y_pred = model.predict(X_test)\n",
    "\n",
    "# 予測結果の表示\n",
    "print(y_pred)\n",
    "\n",
    "# 結果をCSVファイルとして保存\n",
    "result = pd.DataFrame(y_pred).astype(int)\n",
    "result.columns = ['defects']\n",
    "submit = pd.concat([sample['id'].astype(int), result],axis=1)\n",
    "submit.to_csv('data/submission1.csv', index=False)"
   ]
  },
  {
   "cell_type": "code",
   "execution_count": 8,
   "metadata": {},
   "outputs": [
    {
     "name": "stdout",
     "output_type": "stream",
     "text": [
      "[False False  True ... False False  True]\n"
     ]
    }
   ],
   "source": [
    "# 2回目 \n",
    "import pandas as pd\n",
    "from sklearn.linear_model import LogisticRegression\n",
    "from sklearn.metrics import accuracy_score\n",
    "from sklearn.model_selection import train_test_split\n",
    "\n",
    "# 特徴量と目的変数の分割\n",
    "X = train[['l','v(g)','branchCount','loc']]\n",
    "y = train['defects']\n",
    "\n",
    "# データの分割\n",
    "X_train, X_val, y_train, y_val = train_test_split(X, y, test_size=0.666667, random_state=42, shuffle=True)\n",
    "\n",
    "# モデルの学習\n",
    "model = LogisticRegression(multi_class='multinomial', solver='lbfgs')\n",
    "model.fit(X_train, y_train)\n",
    "\n",
    "# 評価用データの予測\n",
    "X_test = test[['l','v(g)','branchCount','loc']]\n",
    "y_pred = model.predict(X_test)\n",
    "\n",
    "# 予測結果の表示\n",
    "print(y_pred)\n",
    "\n",
    "# 結果をCSVファイルとして保存\n",
    "result = pd.DataFrame(y_pred).astype(int)\n",
    "result.columns = ['defects']\n",
    "submit = pd.concat([sample['id'].astype(int), result],axis=1)\n",
    "submit.to_csv('data/submission2.csv', index=False)"
   ]
  },
  {
   "cell_type": "code",
   "execution_count": 6,
   "metadata": {},
   "outputs": [
    {
     "name": "stdout",
     "output_type": "stream",
     "text": [
      "[0.10261566 0.43824746 0.13677403 ... 0.12515194 0.11327329 0.18928498]\n",
      "[False False False ... False False False]\n",
      "Accuracy(test): 0.81153\n",
      "macro-F1: 0.6688337256070771\n",
      "              precision    recall  f1-score   support\n",
      "\n",
      "       False      0.831     0.949     0.886     31480\n",
      "        True      0.663     0.342     0.451      9226\n",
      "\n",
      "    accuracy                          0.812     40706\n",
      "   macro avg      0.747     0.646     0.669     40706\n",
      "weighted avg      0.793     0.812     0.788     40706\n",
      "\n",
      "[False False  True ... False False  True]\n"
     ]
    }
   ],
   "source": [
    "# 3回目 \n",
    "import pandas as pd\n",
    "import xgboost as xgb\n",
    "from sklearn.model_selection import train_test_split\n",
    "from sklearn.metrics import classification_report, accuracy_score, f1_score\n",
    "from sklearn.linear_model import LogisticRegression\n",
    "from sklearn.ensemble import StackingClassifier\n",
    "\n",
    "# 特徴量と目的変数の分割\n",
    "X = train[['l','v(g)','branchCount','loc']]\n",
    "y = train['defects']\n",
    "\n",
    "# データの分割\n",
    "X_train, X_test, y_train, y_test = train_test_split(X, y, test_size=0.4, random_state=42, stratify=y)\n",
    "\n",
    "# モデルの学習のためのパラメータ設定\n",
    "params_xgb = {\n",
    "    'objective': 'binary:logistic',\n",
    "    'eval_metric': 'logloss',\n",
    "    'subsample': 0.6,\n",
    "    'min_child_weight': 10,\n",
    "    'max_depth': 9,\n",
    "    'lambda': 3,\n",
    "    'gamma': 0,\n",
    "    'colsample_bytree': 0.7,\n",
    "    'alpha': 0.2\n",
    "}\n",
    "\n",
    "# XGBoostモデルの学習\n",
    "num_round = 100\n",
    "model_xgb = xgb.XGBClassifier(**params_xgb)\n",
    "model_xgb.fit(X_train, y_train)\n",
    "\n",
    "# ロジスティック回帰モデルの学習\n",
    "model_lr = LogisticRegression(multi_class='multinomial', solver='lbfgs', max_iter=1000)\n",
    "model_lr.fit(X_train, y_train)\n",
    "\n",
    "# スタッキングでアンサンブル\n",
    "estimators = [('xgb', model_xgb), ('lr', model_lr)]\n",
    "stacking_model = StackingClassifier(estimators=estimators, final_estimator=LogisticRegression())\n",
    "\n",
    "# スタッキングモデルの学習\n",
    "stacking_model.fit(X_train, y_train)\n",
    "\n",
    "# 評価用データの予測\n",
    "y_pred_proba = stacking_model.predict_proba(X_test)[:, 1]  # クラス1の予測確率を取得\n",
    "y_pred = (y_pred_proba > 0.5).astype(bool)  # 0.5を閾値にして0または1に変換\n",
    "print(y_pred_proba)\n",
    "print(y_pred)\n",
    "\n",
    "# モデルの評価\n",
    "accuracy = accuracy_score(y_test, y_pred)\n",
    "macro_f1 = f1_score(y_test, y_pred, average='macro')\n",
    "classification_rep = classification_report(y_test, y_pred, digits=3)\n",
    "\n",
    "# 結果の出力\n",
    "print('Accuracy(test): %.5f' % accuracy)\n",
    "print('macro-F1:', macro_f1)\n",
    "print(classification_rep)\n",
    "\n",
    "# 評価用データの予測\n",
    "test = test[['l','v(g)','branchCount','loc']]\n",
    "y_pred_proba = stacking_model.predict_proba(test)[:, 1]\n",
    "y_pred = (y_pred_proba > 0.5).astype(bool)  # 0.5を閾値にして0または1に変換\n",
    "\n",
    "# 予測結果の表示\n",
    "print(y_pred)\n",
    "\n",
    "# 結果をCSVファイルとして保存\n",
    "result = pd.DataFrame(y_pred).astype(int)\n",
    "result.columns = ['defects']\n",
    "submit = pd.concat([sample['id'].astype(int), result],axis=1)\n",
    "submit.to_csv('data/submission3.csv', index=False)"
   ]
  }
 ],
 "metadata": {
  "kernelspec": {
   "display_name": "base",
   "language": "python",
   "name": "python3"
  },
  "language_info": {
   "codemirror_mode": {
    "name": "ipython",
    "version": 3
   },
   "file_extension": ".py",
   "mimetype": "text/x-python",
   "name": "python",
   "nbconvert_exporter": "python",
   "pygments_lexer": "ipython3",
   "version": "3.9.7"
  }
 },
 "nbformat": 4,
 "nbformat_minor": 2
}
