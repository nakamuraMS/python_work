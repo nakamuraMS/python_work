{
 "cells": [
  {
   "cell_type": "code",
   "execution_count": 1,
   "metadata": {},
   "outputs": [
    {
     "name": "stdout",
     "output_type": "stream",
     "text": [
      "1.7.1+cu110\n"
     ]
    }
   ],
   "source": [
    "# https://www.codexa.net/pytorch-python/\n",
    "# インポート\n",
    "import torch\n",
    "print(torch.__version__)"
   ]
  },
  {
   "cell_type": "code",
   "execution_count": null,
   "metadata": {},
   "outputs": [],
   "source": [
    "x = torch.Tensor(2,2)\n",
    "print(x)"
   ]
  },
  {
   "cell_type": "code",
   "execution_count": null,
   "metadata": {},
   "outputs": [],
   "source": [
    "# リストの作成\n",
    "list = [[1,2,3],[4,5,6]]\n",
    "x2 = torch.Tensor(list)\n",
    "x2"
   ]
  },
  {
   "cell_type": "code",
   "execution_count": null,
   "metadata": {},
   "outputs": [],
   "source": [
    "# PyTorchテンソルのサイズ確認\n",
    "x2.size()"
   ]
  },
  {
   "cell_type": "code",
   "execution_count": null,
   "metadata": {},
   "outputs": [],
   "source": [
    "# 一様分布の乱数生成\n",
    "print(torch.rand(2,2))\n",
    "# 正規分布の乱数生成\n",
    "print(torch.randn(2,2))"
   ]
  },
  {
   "cell_type": "code",
   "execution_count": null,
   "metadata": {},
   "outputs": [],
   "source": [
    "# 単位行列の作成\n",
    "print(torch.eye(3,3))\n",
    "# 空のテンソルの作成\n",
    "print(torch.empty(4,1))\n",
    "# 等間隔の数列\n",
    "print(torch.linspace(0, 100, 11))"
   ]
  },
  {
   "cell_type": "code",
   "execution_count": null,
   "metadata": {},
   "outputs": [],
   "source": [
    "# テンソルの作成\n",
    "x = torch.Tensor([[2, 2], [1, 1]])\n",
    "y = torch.Tensor([[3, 2], [1, 2]])\n",
    "# 表示\n",
    "print(x)\n",
    "print(y)\n",
    "\n",
    "# テンソルの足し算\n",
    "print(x + y)\n",
    "print(torch.add(x, y))\n",
    "\n",
    "# テンソルのアダマール積（要素の乗法）\n",
    "print(x * y)\n",
    "print(torch.mul(x, y))\n",
    "\n",
    "# テンソルの積（ドットプロダクト）\n",
    "print(torch.mm(x, y))\n",
    "\n",
    "# テンソルの要素の和\n",
    "print(torch.sum(x))\n",
    "\n",
    "# テンソルの要素の標準偏差\n",
    "print(torch.std(x))\n",
    "\n",
    "# テンソルの要素の算術平均\n",
    "print(torch.mean(x))"
   ]
  },
  {
   "cell_type": "markdown",
   "metadata": {},
   "source": [
    "# PyTorchを使って線形回帰"
   ]
  },
  {
   "cell_type": "code",
   "execution_count": 1,
   "metadata": {},
   "outputs": [
    {
     "name": "stderr",
     "output_type": "stream",
     "text": [
      "c:\\Users\\nakamura\\anaconda3\\lib\\site-packages\\scipy\\__init__.py:146: UserWarning: A NumPy version >=1.16.5 and <1.23.0 is required for this version of SciPy (detected version 1.25.2\n",
      "  warnings.warn(f\"A NumPy version >={np_minversion} and <{np_maxversion}\"\n"
     ]
    }
   ],
   "source": [
    "# ライブラリのインポート\n",
    "import numpy as np\n",
    "import pandas as pd \n",
    "import matplotlib.pyplot as plt\n",
    "import seaborn as sns \n",
    " \n",
    "# PyTorchのインポート\n",
    "import torch \n",
    "import torch.nn as nn\n",
    " \n",
    "# 評価指標（Scikit-learn）\n",
    "from sklearn.metrics import mean_squared_error\n",
    "\n",
    "# CSVファイルの読み込み\n",
    "ramen = pd.read_csv('./archive/ramen-ratings.csv')"
   ]
  },
  {
   "cell_type": "code",
   "execution_count": null,
   "metadata": {},
   "outputs": [],
   "source": [
    "# データの最初の5行を表示\n",
    "ramen.head()"
   ]
  },
  {
   "cell_type": "code",
   "execution_count": null,
   "metadata": {},
   "outputs": [],
   "source": [
    "print(ramen.shape)"
   ]
  },
  {
   "cell_type": "code",
   "execution_count": null,
   "metadata": {},
   "outputs": [],
   "source": [
    "ramen['Country'].value_counts()[0:20]"
   ]
  },
  {
   "cell_type": "code",
   "execution_count": 2,
   "metadata": {},
   "outputs": [
    {
     "data": {
      "text/plain": [
       "(2577, 7)"
      ]
     },
     "execution_count": 2,
     "metadata": {},
     "output_type": "execute_result"
    }
   ],
   "source": [
    "# 未評価（Unrated）のラーメンを除外\n",
    "mask = ramen.index[ramen['Stars'] == 'Unrated']\n",
    "ramen = ramen.drop(index = mask)\n",
    "ramen.shape"
   ]
  },
  {
   "cell_type": "code",
   "execution_count": 3,
   "metadata": {},
   "outputs": [
    {
     "name": "stdout",
     "output_type": "stream",
     "text": [
      "object\n",
      "float64\n"
     ]
    }
   ],
   "source": [
    "# Starsのデータ型を確認\n",
    "print(ramen['Stars'].dtype)\n",
    "# float型へ変換\n",
    "ramen['Stars'] = ramen['Stars'].astype(float)\n",
    "# 改めてデータ型を確認\n",
    "print(ramen['Stars'].dtype)"
   ]
  },
  {
   "cell_type": "code",
   "execution_count": 4,
   "metadata": {},
   "outputs": [
    {
     "data": {
      "text/html": [
       "<div>\n",
       "<style scoped>\n",
       "    .dataframe tbody tr th:only-of-type {\n",
       "        vertical-align: middle;\n",
       "    }\n",
       "\n",
       "    .dataframe tbody tr th {\n",
       "        vertical-align: top;\n",
       "    }\n",
       "\n",
       "    .dataframe thead th {\n",
       "        text-align: right;\n",
       "    }\n",
       "</style>\n",
       "<table border=\"1\" class=\"dataframe\">\n",
       "  <thead>\n",
       "    <tr style=\"text-align: right;\">\n",
       "      <th></th>\n",
       "      <th>Brand</th>\n",
       "      <th>Style</th>\n",
       "      <th>Country</th>\n",
       "      <th>Stars</th>\n",
       "    </tr>\n",
       "  </thead>\n",
       "  <tbody>\n",
       "    <tr>\n",
       "      <th>0</th>\n",
       "      <td>New Touch</td>\n",
       "      <td>Cup</td>\n",
       "      <td>Japan</td>\n",
       "      <td>3.75</td>\n",
       "    </tr>\n",
       "    <tr>\n",
       "      <th>1</th>\n",
       "      <td>Just Way</td>\n",
       "      <td>Pack</td>\n",
       "      <td>Taiwan</td>\n",
       "      <td>1.00</td>\n",
       "    </tr>\n",
       "    <tr>\n",
       "      <th>2</th>\n",
       "      <td>Nissin</td>\n",
       "      <td>Cup</td>\n",
       "      <td>USA</td>\n",
       "      <td>2.25</td>\n",
       "    </tr>\n",
       "    <tr>\n",
       "      <th>3</th>\n",
       "      <td>Wei Lih</td>\n",
       "      <td>Pack</td>\n",
       "      <td>Taiwan</td>\n",
       "      <td>2.75</td>\n",
       "    </tr>\n",
       "    <tr>\n",
       "      <th>4</th>\n",
       "      <td>Ching's Secret</td>\n",
       "      <td>Pack</td>\n",
       "      <td>India</td>\n",
       "      <td>3.75</td>\n",
       "    </tr>\n",
       "  </tbody>\n",
       "</table>\n",
       "</div>"
      ],
      "text/plain": [
       "            Brand Style Country  Stars\n",
       "0       New Touch   Cup   Japan   3.75\n",
       "1        Just Way  Pack  Taiwan   1.00\n",
       "2          Nissin   Cup     USA   2.25\n",
       "3         Wei Lih  Pack  Taiwan   2.75\n",
       "4  Ching's Secret  Pack   India   3.75"
      ]
     },
     "execution_count": 4,
     "metadata": {},
     "output_type": "execute_result"
    }
   ],
   "source": [
    "# 不要なカラムをデータから削除\n",
    "ramen = ramen.drop(columns=['Review #', 'Top Ten', 'Variety'])\n",
    "ramen.head()"
   ]
  },
  {
   "cell_type": "code",
   "execution_count": 5,
   "metadata": {},
   "outputs": [
    {
     "data": {
      "text/html": [
       "<div>\n",
       "<style scoped>\n",
       "    .dataframe tbody tr th:only-of-type {\n",
       "        vertical-align: middle;\n",
       "    }\n",
       "\n",
       "    .dataframe tbody tr th {\n",
       "        vertical-align: top;\n",
       "    }\n",
       "\n",
       "    .dataframe thead th {\n",
       "        text-align: right;\n",
       "    }\n",
       "</style>\n",
       "<table border=\"1\" class=\"dataframe\">\n",
       "  <thead>\n",
       "    <tr style=\"text-align: right;\">\n",
       "      <th></th>\n",
       "      <th>Country_Bangladesh</th>\n",
       "      <th>Country_Brazil</th>\n",
       "      <th>Country_Cambodia</th>\n",
       "      <th>Country_Canada</th>\n",
       "      <th>Country_China</th>\n",
       "      <th>Country_Colombia</th>\n",
       "      <th>Country_Dubai</th>\n",
       "      <th>Country_Estonia</th>\n",
       "      <th>Country_Fiji</th>\n",
       "      <th>Country_Finland</th>\n",
       "      <th>...</th>\n",
       "      <th>Brand_Yum-Mie</th>\n",
       "      <th>Brand_Zow Zow</th>\n",
       "      <th>Brand_iMee</th>\n",
       "      <th>Brand_iNoodle</th>\n",
       "      <th>Style_Bowl</th>\n",
       "      <th>Style_Box</th>\n",
       "      <th>Style_Can</th>\n",
       "      <th>Style_Cup</th>\n",
       "      <th>Style_Pack</th>\n",
       "      <th>Style_Tray</th>\n",
       "    </tr>\n",
       "  </thead>\n",
       "  <tbody>\n",
       "    <tr>\n",
       "      <th>0</th>\n",
       "      <td>0</td>\n",
       "      <td>0</td>\n",
       "      <td>0</td>\n",
       "      <td>0</td>\n",
       "      <td>0</td>\n",
       "      <td>0</td>\n",
       "      <td>0</td>\n",
       "      <td>0</td>\n",
       "      <td>0</td>\n",
       "      <td>0</td>\n",
       "      <td>...</td>\n",
       "      <td>0</td>\n",
       "      <td>0</td>\n",
       "      <td>0</td>\n",
       "      <td>0</td>\n",
       "      <td>0</td>\n",
       "      <td>0</td>\n",
       "      <td>0</td>\n",
       "      <td>1</td>\n",
       "      <td>0</td>\n",
       "      <td>0</td>\n",
       "    </tr>\n",
       "    <tr>\n",
       "      <th>1</th>\n",
       "      <td>0</td>\n",
       "      <td>0</td>\n",
       "      <td>0</td>\n",
       "      <td>0</td>\n",
       "      <td>0</td>\n",
       "      <td>0</td>\n",
       "      <td>0</td>\n",
       "      <td>0</td>\n",
       "      <td>0</td>\n",
       "      <td>0</td>\n",
       "      <td>...</td>\n",
       "      <td>0</td>\n",
       "      <td>0</td>\n",
       "      <td>0</td>\n",
       "      <td>0</td>\n",
       "      <td>0</td>\n",
       "      <td>0</td>\n",
       "      <td>0</td>\n",
       "      <td>0</td>\n",
       "      <td>1</td>\n",
       "      <td>0</td>\n",
       "    </tr>\n",
       "    <tr>\n",
       "      <th>2</th>\n",
       "      <td>0</td>\n",
       "      <td>0</td>\n",
       "      <td>0</td>\n",
       "      <td>0</td>\n",
       "      <td>0</td>\n",
       "      <td>0</td>\n",
       "      <td>0</td>\n",
       "      <td>0</td>\n",
       "      <td>0</td>\n",
       "      <td>0</td>\n",
       "      <td>...</td>\n",
       "      <td>0</td>\n",
       "      <td>0</td>\n",
       "      <td>0</td>\n",
       "      <td>0</td>\n",
       "      <td>0</td>\n",
       "      <td>0</td>\n",
       "      <td>0</td>\n",
       "      <td>1</td>\n",
       "      <td>0</td>\n",
       "      <td>0</td>\n",
       "    </tr>\n",
       "    <tr>\n",
       "      <th>3</th>\n",
       "      <td>0</td>\n",
       "      <td>0</td>\n",
       "      <td>0</td>\n",
       "      <td>0</td>\n",
       "      <td>0</td>\n",
       "      <td>0</td>\n",
       "      <td>0</td>\n",
       "      <td>0</td>\n",
       "      <td>0</td>\n",
       "      <td>0</td>\n",
       "      <td>...</td>\n",
       "      <td>0</td>\n",
       "      <td>0</td>\n",
       "      <td>0</td>\n",
       "      <td>0</td>\n",
       "      <td>0</td>\n",
       "      <td>0</td>\n",
       "      <td>0</td>\n",
       "      <td>0</td>\n",
       "      <td>1</td>\n",
       "      <td>0</td>\n",
       "    </tr>\n",
       "    <tr>\n",
       "      <th>4</th>\n",
       "      <td>0</td>\n",
       "      <td>0</td>\n",
       "      <td>0</td>\n",
       "      <td>0</td>\n",
       "      <td>0</td>\n",
       "      <td>0</td>\n",
       "      <td>0</td>\n",
       "      <td>0</td>\n",
       "      <td>0</td>\n",
       "      <td>0</td>\n",
       "      <td>...</td>\n",
       "      <td>0</td>\n",
       "      <td>0</td>\n",
       "      <td>0</td>\n",
       "      <td>0</td>\n",
       "      <td>0</td>\n",
       "      <td>0</td>\n",
       "      <td>0</td>\n",
       "      <td>0</td>\n",
       "      <td>1</td>\n",
       "      <td>0</td>\n",
       "    </tr>\n",
       "  </tbody>\n",
       "</table>\n",
       "<p>5 rows × 397 columns</p>\n",
       "</div>"
      ],
      "text/plain": [
       "   Country_Bangladesh  Country_Brazil  Country_Cambodia  Country_Canada  \\\n",
       "0                   0               0                 0               0   \n",
       "1                   0               0                 0               0   \n",
       "2                   0               0                 0               0   \n",
       "3                   0               0                 0               0   \n",
       "4                   0               0                 0               0   \n",
       "\n",
       "   Country_China  Country_Colombia  Country_Dubai  Country_Estonia  \\\n",
       "0              0                 0              0                0   \n",
       "1              0                 0              0                0   \n",
       "2              0                 0              0                0   \n",
       "3              0                 0              0                0   \n",
       "4              0                 0              0                0   \n",
       "\n",
       "   Country_Fiji  Country_Finland  ...  Brand_Yum-Mie  Brand_Zow Zow  \\\n",
       "0             0                0  ...              0              0   \n",
       "1             0                0  ...              0              0   \n",
       "2             0                0  ...              0              0   \n",
       "3             0                0  ...              0              0   \n",
       "4             0                0  ...              0              0   \n",
       "\n",
       "   Brand_iMee  Brand_iNoodle  Style_Bowl  Style_Box  Style_Can  Style_Cup  \\\n",
       "0           0              0           0          0          0          1   \n",
       "1           0              0           0          0          0          0   \n",
       "2           0              0           0          0          0          1   \n",
       "3           0              0           0          0          0          0   \n",
       "4           0              0           0          0          0          0   \n",
       "\n",
       "   Style_Pack  Style_Tray  \n",
       "0           0           0  \n",
       "1           1           0  \n",
       "2           0           0  \n",
       "3           1           0  \n",
       "4           1           0  \n",
       "\n",
       "[5 rows x 397 columns]"
      ]
     },
     "execution_count": 5,
     "metadata": {},
     "output_type": "execute_result"
    }
   ],
   "source": [
    "# 特徴量のダミー変数化\n",
    "Country = pd.get_dummies(ramen['Country'], prefix='Country', drop_first=True)\n",
    "Brand = pd.get_dummies(ramen['Brand'], prefix='Brand', drop_first=True)\n",
    "Style = pd.get_dummies(ramen['Style'], prefix='Style', drop_first=True)\n",
    "# ダミー変数化した特徴量を結合\n",
    "ramendf = pd.concat([Country, Brand, Style], axis=1)\n",
    "# 確認\n",
    "ramendf.head()"
   ]
  },
  {
   "cell_type": "code",
   "execution_count": 6,
   "metadata": {},
   "outputs": [],
   "source": [
    "# 特徴量とターゲットへ分割\n",
    "X = np.array(ramendf, dtype=np.float32) \n",
    "y = np.array(ramen[['Stars']], dtype=np.float32)"
   ]
  },
  {
   "cell_type": "code",
   "execution_count": 7,
   "metadata": {},
   "outputs": [],
   "source": [
    "# 線形回帰モデル\n",
    "model = nn.Linear(397, 1)"
   ]
  },
  {
   "cell_type": "code",
   "execution_count": 8,
   "metadata": {},
   "outputs": [],
   "source": [
    "# 損失関数\n",
    "loss= nn.MSELoss()\n",
    "# 最適化関数\n",
    "optimizer = torch.optim.SGD(model.parameters(), lr=0.6)"
   ]
  },
  {
   "cell_type": "code",
   "execution_count": 9,
   "metadata": {},
   "outputs": [
    {
     "name": "stderr",
     "output_type": "stream",
     "text": [
      "c:\\Users\\nakamura\\anaconda3\\lib\\site-packages\\torch\\autograd\\__init__.py:130: UserWarning: CUDA initialization: Found no NVIDIA driver on your system. Please check that you have an NVIDIA GPU and installed a driver from http://www.nvidia.com/Download/index.aspx (Triggered internally at  ..\\c10\\cuda\\CUDAFunctions.cpp:100.)\n",
      "  Variable._execution_engine.run_backward(\n"
     ]
    },
    {
     "name": "stdout",
     "output_type": "stream",
     "text": [
      "Epoch [100/1000], Loss: 0.7759\n",
      "Epoch [200/1000], Loss: 0.7272\n",
      "Epoch [300/1000], Loss: 0.6983\n",
      "Epoch [400/1000], Loss: 0.6785\n",
      "Epoch [500/1000], Loss: 0.6638\n",
      "Epoch [600/1000], Loss: 0.6522\n",
      "Epoch [700/1000], Loss: 0.6429\n",
      "Epoch [800/1000], Loss: 0.6352\n",
      "Epoch [900/1000], Loss: 0.6287\n",
      "Epoch [1000/1000], Loss: 0.6231\n"
     ]
    }
   ],
   "source": [
    "# モデル訓練\n",
    "for epoch in range(1000):\n",
    "    # ステージ1 Numpy配列からテンソルへ変換\n",
    "    inputs = torch.from_numpy(X)\n",
    "    targets = torch.from_numpy(y)\n",
    "\n",
    "    # ステージ2 推測値を出力して誤差（コスト）を算出\n",
    "    outputs =model(inputs)\n",
    "    cost = loss(outputs, targets)\n",
    "\n",
    "    # ステージ3 誤差逆伝播（バックプロパゲーション）\n",
    "    optimizer.zero_grad()\n",
    "    cost.backward()\n",
    "    optimizer.step()\n",
    "\n",
    "    # ステージ4 50回ごとにコストを表示\n",
    "    if (epoch + 1) % 100 == 0:\n",
    "        print ('Epoch [{}/{}], Loss: {:.4f}'.format(epoch+1, 1000, cost.item()))"
   ]
  },
  {
   "cell_type": "code",
   "execution_count": 10,
   "metadata": {},
   "outputs": [
    {
     "name": "stdout",
     "output_type": "stream",
     "text": [
      "[[4.1107054]\n",
      " [2.9211955]\n",
      " [3.4576013]\n",
      " [3.4200048]\n",
      " [3.706513 ]]\n",
      "[[3.75]\n",
      " [1.  ]\n",
      " [2.25]\n",
      " [2.75]\n",
      " [3.75]]\n"
     ]
    }
   ],
   "source": [
    "# 予測を出力\n",
    "y_pred = model(torch.from_numpy(X)).data.numpy()\n",
    "print(y_pred[0:5])\n",
    "print(y[0:5])"
   ]
  },
  {
   "cell_type": "code",
   "execution_count": 11,
   "metadata": {},
   "outputs": [
    {
     "data": {
      "text/plain": [
       "0.6230184"
      ]
     },
     "execution_count": 11,
     "metadata": {},
     "output_type": "execute_result"
    }
   ],
   "source": [
    "# 平均二乗誤差を確認\n",
    "mean_squared_error(y, y_pred)"
   ]
  }
 ],
 "metadata": {
  "kernelspec": {
   "display_name": "base",
   "language": "python",
   "name": "python3"
  },
  "language_info": {
   "codemirror_mode": {
    "name": "ipython",
    "version": 3
   },
   "file_extension": ".py",
   "mimetype": "text/x-python",
   "name": "python",
   "nbconvert_exporter": "python",
   "pygments_lexer": "ipython3",
   "version": "3.9.7"
  }
 },
 "nbformat": 4,
 "nbformat_minor": 2
}
