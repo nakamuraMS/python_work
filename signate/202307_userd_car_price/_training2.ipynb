{
 "cells": [
  {
   "cell_type": "markdown",
   "metadata": {},
   "source": [
    "### https://qiita.com/uratatsu/items/49d54484f9099bc3acbb#%E3%82%B9%E3%82%B3%E3%82%A2%E6%8E%A8%E7%A7%BB%E3%81%8B%E3%82%89%E3%81%BF%E3%82%8Bkaggle%E3%82%B3%E3%83%B3%E3%83%9A%E3%81%AE%E3%83%97%E3%83%AD%E3%82%BB%E3%82%B9\n"
   ]
  },
  {
   "cell_type": "code",
   "execution_count": 5,
   "metadata": {},
   "outputs": [],
   "source": [
    "import utils as Util\n",
    "\n",
    "import pandas as pd\n",
    "import numpy as np\n",
    "from sklearn.model_selection import train_test_split\n",
    "from sklearn.linear_model import LinearRegression\n",
    "import lightgbm as lgb\n",
    "from sklearn.metrics import mean_absolute_percentage_error\n",
    "\n",
    "from sklearn.model_selection import KFold\n",
    "from sklearn.model_selection import StratifiedKFold\n",
    "from sklearn.metrics import log_loss\n",
    "\n",
    "import lightgbm as lgb\n",
    "import optuna"
   ]
  },
  {
   "cell_type": "code",
   "execution_count": 2,
   "metadata": {},
   "outputs": [],
   "source": [
    "train = pd.read_csv(\"./data/train.csv\")\n",
    "test = pd.read_csv(\"./data/test.csv\")\n",
    "sample = pd.read_csv(\"./data/submit_sample.csv\",header=None)"
   ]
  },
  {
   "cell_type": "code",
   "execution_count": null,
   "metadata": {},
   "outputs": [],
   "source": [
    "# カテゴリカルな特徴量を数値に変換\n",
    "categorical_columns = ['region', 'manufacturer', 'condition', 'cylinders', 'fuel', 'title_status', 'transmission', 'drive', 'size', 'type', 'paint_color', 'state']\n",
    "train = Util.bulk_label_encoding(train, categorical_columns)\n",
    "test = Util.bulk_label_encoding(test, categorical_columns)\n",
    "\n",
    "# 特徴量とターゲット変数を分ける\n",
    "target_columns = [\"odometer\", \"fuel\", \"drive\", \"transmission\", \"year\", \"cylinders\"]\n",
    "X = train[target_columns]\n",
    "y = train[\"price\"]\n",
    "\n",
    "# LightGBMのパラメータ設定\n",
    "params = {\n",
    "    'objective': 'regression',\n",
    "    'metric': 'mape',\n",
    "    'boosting_type': 'gbdt',\n",
    "    'num_leaves': 31,\n",
    "    'learning_rate': 0.05,\n",
    "    'feature_fraction': 0.9\n",
    "}\n",
    "\n",
    "# KFoldを使った交差検証\n",
    "num_folds = 5\n",
    "kf = KFold(n_splits=num_folds, shuffle=True, random_state=42)\n",
    "\n",
    "scores = []\n",
    "\n",
    "for train_index, val_index in kf.split(X):\n",
    "    X_train, X_val = X.iloc[train_index], X.iloc[val_index]\n",
    "    y_train, y_val = y.iloc[train_index], y.iloc[val_index]\n",
    "    \n",
    "    d_train = lgb.Dataset(X_train, label=y_train)\n",
    "    d_val = lgb.Dataset(X_val, label=y_val)\n",
    "    \n",
    "    # model = lgb.train(params, d_train, num_boost_round=1000, valid_sets=[d_train, d_val], early_stopping_rounds=50, verbose_eval=100)\n",
    "    model = lgb.train(params, d_train, num_boost_round=1000, valid_sets=[d_train, d_val])\n",
    "    \n",
    "    y_pred = model.predict(X_val, num_iteration=model.best_iteration)\n",
    "    score = mean_absolute_percentage_error(y_val, y_pred) * 100\n",
    "    scores.append(score)\n",
    "\n",
    "mean_score = np.mean(scores)\n",
    "print(\"Mean Cross-Validation MAPE:\", mean_score)"
   ]
  },
  {
   "cell_type": "code",
   "execution_count": null,
   "metadata": {},
   "outputs": [],
   "source": [
    "# カテゴリカルな特徴量を数値に変換\n",
    "categorical_columns = ['region', 'manufacturer', 'condition', 'cylinders', 'fuel', 'title_status', 'transmission', 'drive', 'size', 'type', 'paint_color', 'state']\n",
    "train = Util.bulk_label_encoding(train, categorical_columns)\n",
    "test = Util.bulk_label_encoding(test, categorical_columns)\n",
    "\n",
    "# 特徴量とターゲット変数を分ける\n",
    "target_columns = [\"odometer\", \"fuel\", \"drive\", \"transmission\", \"year\", \"cylinders\"]\n",
    "X = train[target_columns]\n",
    "y = train[\"price\"]\n",
    "\n",
    "# 訓練データとテストデータに分割\n",
    "X_train, X_valid, y_train, y_valid = train_test_split(X, y, test_size=0.2, random_state=42)\n",
    "\n",
    "def objective(trial):\n",
    "    params = {\n",
    "        'objective': 'regression',\n",
    "        'max_bin': trial.suggest_int('max_bin', 255, 500),\n",
    "        'learning_rate': 0.05,\n",
    "        'num_leaves': trial.suggest_int('num_leaves', 32, 128),\n",
    "    }\n",
    "    \n",
    "    lgb_train = lgb.Dataset(X_train, y_train)\n",
    "    lgb_eval = lgb.Dataset(X_valid, y_valid, reference=lgb_train)\n",
    "\n",
    "    model = lgb.train(params, lgb_train,\n",
    "                      valid_sets=[lgb_train, lgb_eval],\n",
    "                      num_boost_round=1000)\n",
    "\n",
    "    y_pred_valid = model.predict(X_valid, num_iteration=model.best_iteration)\n",
    "    score = mean_absolute_percentage_error(y_valid, y_pred_valid) * 100\n",
    "    return score\n",
    "study = optuna.create_study(sampler=optuna.samplers.RandomSampler(seed=0))\n",
    "study.optimize(objective, n_trials=40)\n",
    "study.best_params\n",
    "# ↓study.best_paramsはこれ\n",
    "# {'max_bin': 426, 'num_leaves': 37}"
   ]
  },
  {
   "cell_type": "code",
   "execution_count": null,
   "metadata": {},
   "outputs": [],
   "source": []
  }
 ],
 "metadata": {
  "kernelspec": {
   "display_name": "base",
   "language": "python",
   "name": "python3"
  },
  "language_info": {
   "codemirror_mode": {
    "name": "ipython",
    "version": 3
   },
   "file_extension": ".py",
   "mimetype": "text/x-python",
   "name": "python",
   "nbconvert_exporter": "python",
   "pygments_lexer": "ipython3",
   "version": "3.9.7"
  },
  "orig_nbformat": 4
 },
 "nbformat": 4,
 "nbformat_minor": 2
}
