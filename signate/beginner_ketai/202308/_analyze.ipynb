{
 "cells": [
  {
   "cell_type": "code",
   "execution_count": 1,
   "metadata": {},
   "outputs": [],
   "source": [
    "# https://signate.jp/competitions/984\n",
    "import pandas as pd\n",
    "import numpy as np\n",
    "from matplotlib import pyplot as plt\n",
    "import seaborn as sns\n",
    "\n",
    "train = pd.read_csv(\"./train.csv\")\n",
    "test = pd.read_csv(\"./test.csv\")\n",
    "sample = pd.read_csv(\"./sample_submit.csv\",header=None)"
   ]
  },
  {
   "cell_type": "code",
   "execution_count": 2,
   "metadata": {},
   "outputs": [
    {
     "data": {
      "text/html": [
       "<div>\n",
       "<style scoped>\n",
       "    .dataframe tbody tr th:only-of-type {\n",
       "        vertical-align: middle;\n",
       "    }\n",
       "\n",
       "    .dataframe tbody tr th {\n",
       "        vertical-align: top;\n",
       "    }\n",
       "\n",
       "    .dataframe thead th {\n",
       "        text-align: right;\n",
       "    }\n",
       "</style>\n",
       "<table border=\"1\" class=\"dataframe\">\n",
       "  <thead>\n",
       "    <tr style=\"text-align: right;\">\n",
       "      <th></th>\n",
       "      <th>id</th>\n",
       "      <th>mpg</th>\n",
       "      <th>cylinders</th>\n",
       "      <th>displacement</th>\n",
       "      <th>horsepower</th>\n",
       "      <th>weight</th>\n",
       "      <th>acceleration</th>\n",
       "      <th>model year</th>\n",
       "      <th>origin</th>\n",
       "      <th>car name</th>\n",
       "    </tr>\n",
       "  </thead>\n",
       "  <tbody>\n",
       "    <tr>\n",
       "      <th>0</th>\n",
       "      <td>0</td>\n",
       "      <td>23.059782</td>\n",
       "      <td>6</td>\n",
       "      <td>140</td>\n",
       "      <td>110</td>\n",
       "      <td>2815</td>\n",
       "      <td>17.977429</td>\n",
       "      <td>80</td>\n",
       "      <td>1</td>\n",
       "      <td>dodge aspen</td>\n",
       "    </tr>\n",
       "    <tr>\n",
       "      <th>1</th>\n",
       "      <td>3</td>\n",
       "      <td>17.674521</td>\n",
       "      <td>8</td>\n",
       "      <td>350</td>\n",
       "      <td>150</td>\n",
       "      <td>4456</td>\n",
       "      <td>13.514535</td>\n",
       "      <td>72</td>\n",
       "      <td>1</td>\n",
       "      <td>dodge rampage</td>\n",
       "    </tr>\n",
       "    <tr>\n",
       "      <th>2</th>\n",
       "      <td>4</td>\n",
       "      <td>17.136353</td>\n",
       "      <td>8</td>\n",
       "      <td>302</td>\n",
       "      <td>140</td>\n",
       "      <td>2774</td>\n",
       "      <td>13.209912</td>\n",
       "      <td>79</td>\n",
       "      <td>1</td>\n",
       "      <td>mercury cougar brougham</td>\n",
       "    </tr>\n",
       "    <tr>\n",
       "      <th>3</th>\n",
       "      <td>7</td>\n",
       "      <td>22.664666</td>\n",
       "      <td>6</td>\n",
       "      <td>400</td>\n",
       "      <td>85</td>\n",
       "      <td>2190</td>\n",
       "      <td>15.196381</td>\n",
       "      <td>71</td>\n",
       "      <td>1</td>\n",
       "      <td>pontiac j2000 se hatchback</td>\n",
       "    </tr>\n",
       "    <tr>\n",
       "      <th>4</th>\n",
       "      <td>9</td>\n",
       "      <td>17.872018</td>\n",
       "      <td>8</td>\n",
       "      <td>429</td>\n",
       "      <td>220</td>\n",
       "      <td>2245</td>\n",
       "      <td>9.621400</td>\n",
       "      <td>70</td>\n",
       "      <td>1</td>\n",
       "      <td>ford galaxie 500</td>\n",
       "    </tr>\n",
       "  </tbody>\n",
       "</table>\n",
       "</div>"
      ],
      "text/plain": [
       "   id        mpg  cylinders  displacement horsepower  weight  acceleration  \\\n",
       "0   0  23.059782          6           140        110    2815     17.977429   \n",
       "1   3  17.674521          8           350        150    4456     13.514535   \n",
       "2   4  17.136353          8           302        140    2774     13.209912   \n",
       "3   7  22.664666          6           400         85    2190     15.196381   \n",
       "4   9  17.872018          8           429        220    2245      9.621400   \n",
       "\n",
       "   model year  origin                    car name  \n",
       "0          80       1                 dodge aspen  \n",
       "1          72       1               dodge rampage  \n",
       "2          79       1     mercury cougar brougham  \n",
       "3          71       1  pontiac j2000 se hatchback  \n",
       "4          70       1            ford galaxie 500  "
      ]
     },
     "execution_count": 2,
     "metadata": {},
     "output_type": "execute_result"
    }
   ],
   "source": [
    "# trainデータの先頭行を表示\n",
    "train.head()"
   ]
  },
  {
   "cell_type": "code",
   "execution_count": 3,
   "metadata": {},
   "outputs": [
    {
     "data": {
      "text/html": [
       "<div>\n",
       "<style scoped>\n",
       "    .dataframe tbody tr th:only-of-type {\n",
       "        vertical-align: middle;\n",
       "    }\n",
       "\n",
       "    .dataframe tbody tr th {\n",
       "        vertical-align: top;\n",
       "    }\n",
       "\n",
       "    .dataframe thead th {\n",
       "        text-align: right;\n",
       "    }\n",
       "</style>\n",
       "<table border=\"1\" class=\"dataframe\">\n",
       "  <thead>\n",
       "    <tr style=\"text-align: right;\">\n",
       "      <th></th>\n",
       "      <th>id</th>\n",
       "      <th>cylinders</th>\n",
       "      <th>displacement</th>\n",
       "      <th>horsepower</th>\n",
       "      <th>weight</th>\n",
       "      <th>acceleration</th>\n",
       "      <th>model year</th>\n",
       "      <th>origin</th>\n",
       "      <th>car name</th>\n",
       "    </tr>\n",
       "  </thead>\n",
       "  <tbody>\n",
       "    <tr>\n",
       "      <th>0</th>\n",
       "      <td>1</td>\n",
       "      <td>4</td>\n",
       "      <td>98</td>\n",
       "      <td>67</td>\n",
       "      <td>2000</td>\n",
       "      <td>15.049795</td>\n",
       "      <td>81</td>\n",
       "      <td>1</td>\n",
       "      <td>peugeot 504</td>\n",
       "    </tr>\n",
       "    <tr>\n",
       "      <th>1</th>\n",
       "      <td>2</td>\n",
       "      <td>4</td>\n",
       "      <td>97</td>\n",
       "      <td>90</td>\n",
       "      <td>2720</td>\n",
       "      <td>15.339172</td>\n",
       "      <td>79</td>\n",
       "      <td>1</td>\n",
       "      <td>dodge aspen</td>\n",
       "    </tr>\n",
       "    <tr>\n",
       "      <th>2</th>\n",
       "      <td>5</td>\n",
       "      <td>4</td>\n",
       "      <td>90</td>\n",
       "      <td>75</td>\n",
       "      <td>2807</td>\n",
       "      <td>17.821599</td>\n",
       "      <td>77</td>\n",
       "      <td>1</td>\n",
       "      <td>dodge monaco brougham</td>\n",
       "    </tr>\n",
       "    <tr>\n",
       "      <th>3</th>\n",
       "      <td>6</td>\n",
       "      <td>4</td>\n",
       "      <td>140</td>\n",
       "      <td>110</td>\n",
       "      <td>2807</td>\n",
       "      <td>13.780354</td>\n",
       "      <td>82</td>\n",
       "      <td>2</td>\n",
       "      <td>buick century limited</td>\n",
       "    </tr>\n",
       "    <tr>\n",
       "      <th>4</th>\n",
       "      <td>8</td>\n",
       "      <td>4</td>\n",
       "      <td>121</td>\n",
       "      <td>85</td>\n",
       "      <td>3070</td>\n",
       "      <td>13.688921</td>\n",
       "      <td>73</td>\n",
       "      <td>2</td>\n",
       "      <td>saab 99le</td>\n",
       "    </tr>\n",
       "  </tbody>\n",
       "</table>\n",
       "</div>"
      ],
      "text/plain": [
       "   id  cylinders  displacement horsepower  weight  acceleration  model year  \\\n",
       "0   1          4            98         67    2000     15.049795          81   \n",
       "1   2          4            97         90    2720     15.339172          79   \n",
       "2   5          4            90         75    2807     17.821599          77   \n",
       "3   6          4           140        110    2807     13.780354          82   \n",
       "4   8          4           121         85    3070     13.688921          73   \n",
       "\n",
       "   origin               car name  \n",
       "0       1            peugeot 504  \n",
       "1       1            dodge aspen  \n",
       "2       1  dodge monaco brougham  \n",
       "3       2  buick century limited  \n",
       "4       2              saab 99le  "
      ]
     },
     "execution_count": 3,
     "metadata": {},
     "output_type": "execute_result"
    }
   ],
   "source": [
    "# testデータの先頭行を表示\n",
    "test.head()"
   ]
  },
  {
   "cell_type": "code",
   "execution_count": 5,
   "metadata": {},
   "outputs": [
    {
     "name": "stdout",
     "output_type": "stream",
     "text": [
      "<class 'pandas.core.frame.DataFrame'>\n",
      "RangeIndex: 500 entries, 0 to 499\n",
      "Data columns (total 10 columns):\n",
      " #   Column        Non-Null Count  Dtype  \n",
      "---  ------        --------------  -----  \n",
      " 0   id            500 non-null    int64  \n",
      " 1   mpg           500 non-null    float64\n",
      " 2   cylinders     500 non-null    int64  \n",
      " 3   displacement  500 non-null    int64  \n",
      " 4   horsepower    500 non-null    object \n",
      " 5   weight        500 non-null    int64  \n",
      " 6   acceleration  500 non-null    float64\n",
      " 7   model year    500 non-null    int64  \n",
      " 8   origin        500 non-null    int64  \n",
      " 9   car name      500 non-null    object \n",
      "dtypes: float64(2), int64(6), object(2)\n",
      "memory usage: 39.2+ KB\n"
     ]
    }
   ],
   "source": [
    "train.info()"
   ]
  },
  {
   "cell_type": "code",
   "execution_count": null,
   "metadata": {},
   "outputs": [],
   "source": [
    "print(train[\"cylinders\"].unique()) # 整数\n",
    "print(train[\"displacement\"].unique()) # 整数\n",
    "print(train[\"horsepower\"].unique()) # object(?が入ってるカラムあり)\n",
    "print(train[\"weight\"].unique()) # 整数\n",
    "print(train[\"acceleration\"].unique()) # 浮動小数点\n",
    "print(train[\"model year\"].unique()) # 整数\n",
    "print(train[\"origin\"].unique()) # 整数\n",
    "print(train[\"car name\"].unique()) # 文字列"
   ]
  },
  {
   "cell_type": "code",
   "execution_count": 11,
   "metadata": {},
   "outputs": [
    {
     "name": "stdout",
     "output_type": "stream",
     "text": [
      "      id        mpg  cylinders  displacement horsepower  weight  acceleration  \\\n",
      "10    24  44.763897          4            85          ?    1755     17.503013   \n",
      "48    96  23.008702          4           140          ?    1760     19.472427   \n",
      "224  454  28.146944          4           140          ?    1760     19.420540   \n",
      "286  574  44.021790          4            85          ?    1955     20.795175   \n",
      "320  645  44.410105          4            85          ?    1955     21.057837   \n",
      "407  815  28.048825          4           140          ?    1760     19.139558   \n",
      "415  831  28.079580          4           140          ?    1760     17.268393   \n",
      "455  901  27.536418          4           140          ?    1760     19.243466   \n",
      "487  970  27.725048          4           140          ?    1760     19.532434   \n",
      "\n",
      "     model year  origin              car name  \n",
      "10           80       2  renault lecar deluxe  \n",
      "48           76       1             vw rabbit  \n",
      "224          76       1             vw rabbit  \n",
      "286          80       2         pontiac astro  \n",
      "320          80       2         pontiac astro  \n",
      "407          71       1             vw rabbit  \n",
      "415          82       1             vw rabbit  \n",
      "455          76       1             vw rabbit  \n",
      "487          76       1             vw rabbit  \n"
     ]
    }
   ],
   "source": [
    "print(train[train['horsepower'] == '?'])"
   ]
  },
  {
   "cell_type": "code",
   "execution_count": 12,
   "metadata": {},
   "outputs": [
    {
     "name": "stdout",
     "output_type": "stream",
     "text": [
      "              id   cylinders  displacement       weight  acceleration  \\\n",
      "count  500.00000  500.000000    500.000000   500.000000    500.000000   \n",
      "mean   498.82400    5.148000    186.534000  2740.426000     15.301564   \n",
      "std    289.26911    1.617197    103.173108   688.956869      2.222428   \n",
      "min      1.00000    4.000000     80.000000  1613.000000      9.550639   \n",
      "25%    252.75000    4.000000    104.000000  2197.500000     13.467201   \n",
      "50%    490.00000    4.000000    140.000000  2702.000000     15.255378   \n",
      "75%    748.50000    6.000000    302.000000  3212.000000     17.182176   \n",
      "max    999.00000    8.000000    429.000000  4732.000000     21.770354   \n",
      "\n",
      "       model year      origin  \n",
      "count   500.00000  500.000000  \n",
      "mean     76.31600    1.448000  \n",
      "std       3.83426    0.764503  \n",
      "min      70.00000    1.000000  \n",
      "25%      73.00000    1.000000  \n",
      "50%      76.00000    1.000000  \n",
      "75%      80.00000    2.000000  \n",
      "max      82.00000    3.000000  \n"
     ]
    }
   ],
   "source": [
    "# testデータの統計的な情報を表示\n",
    "print(test.describe())"
   ]
  },
  {
   "cell_type": "code",
   "execution_count": 13,
   "metadata": {},
   "outputs": [
    {
     "name": "stdout",
     "output_type": "stream",
     "text": [
      "<class 'pandas.core.frame.DataFrame'>\n",
      "RangeIndex: 500 entries, 0 to 499\n",
      "Data columns (total 9 columns):\n",
      " #   Column        Non-Null Count  Dtype  \n",
      "---  ------        --------------  -----  \n",
      " 0   id            500 non-null    int64  \n",
      " 1   cylinders     500 non-null    int64  \n",
      " 2   displacement  500 non-null    int64  \n",
      " 3   horsepower    500 non-null    object \n",
      " 4   weight        500 non-null    int64  \n",
      " 5   acceleration  500 non-null    float64\n",
      " 6   model year    500 non-null    int64  \n",
      " 7   origin        500 non-null    int64  \n",
      " 8   car name      500 non-null    object \n",
      "dtypes: float64(1), int64(6), object(2)\n",
      "memory usage: 35.3+ KB\n"
     ]
    }
   ],
   "source": [
    "test.info()"
   ]
  },
  {
   "cell_type": "code",
   "execution_count": null,
   "metadata": {},
   "outputs": [],
   "source": [
    "print(test[\"cylinders\"].unique()) # 整数\n",
    "print(test[\"displacement\"].unique()) # 整数\n",
    "print(test[\"horsepower\"].unique()) # object(?が入ってるカラムあり)\n",
    "print(test[\"weight\"].unique()) # 整数\n",
    "print(test[\"acceleration\"].unique()) # 浮動小数点\n",
    "print(test[\"model year\"].unique()) # 整数\n",
    "print(test[\"origin\"].unique()) # 整数\n",
    "print(test[\"car name\"].unique()) # 文字列"
   ]
  },
  {
   "cell_type": "code",
   "execution_count": 15,
   "metadata": {},
   "outputs": [
    {
     "name": "stdout",
     "output_type": "stream",
     "text": [
      "      id  cylinders  displacement horsepower  weight  acceleration  \\\n",
      "98   206          4            85          ?    4274     20.917523   \n",
      "181  358          4            85          ?    1955     17.750490   \n",
      "381  765          4           140          ?    2125     19.516352   \n",
      "387  780          4           140          ?    1760     13.459806   \n",
      "407  814          4            85          ?    1755     17.537356   \n",
      "435  875          4           140          ?    1760     19.247418   \n",
      "\n",
      "     model year  origin              car name  \n",
      "98           78       2            ford pinto  \n",
      "181          80       2         pontiac astro  \n",
      "381          76       1             vw rabbit  \n",
      "387          71       1             vw rabbit  \n",
      "407          80       1  renault lecar deluxe  \n",
      "435          71       1             vw rabbit  \n"
     ]
    }
   ],
   "source": [
    "print(test[test['horsepower'] == '?'])"
   ]
  },
  {
   "cell_type": "code",
   "execution_count": 26,
   "metadata": {},
   "outputs": [
    {
     "data": {
      "image/png": "[encoded data removed]",
      "text/plain": [
       "<Figure size 432x288 with 1 Axes>"
      ]
     },
     "metadata": {
      "needs_background": "light"
     },
     "output_type": "display_data"
    },
    {
     "data": {
      "text/plain": [
       "<Figure size 720x720 with 0 Axes>"
      ]
     },
     "metadata": {},
     "output_type": "display_data"
    }
   ],
   "source": [
    "# 目的変数(charges)の分布を可視化\n",
    "plt.ylabel('mpg')\n",
    "plt.xlabel('id')\n",
    "plt.title('Distribution of mpg')\n",
    "plt.bar(train['id'], train['mpg'])\n",
    "fig = plt.figure(figsize = (10,10), facecolor='lightblue')\n",
    "plt.show()"
   ]
  },
  {
   "cell_type": "code",
   "execution_count": 4,
   "metadata": {},
   "outputs": [
    {
     "data": {
      "text/plain": [
       "array([110, 150, 140,  85, 220, 165,  60,  97,  90,  67,  72, 122, 139,\n",
       "        88, 100, 105,  54,  71,  78,  75, 148, 130,  95,  70, 112,  69,\n",
       "       132, 120, 108,  74,  96,  61, 193,  58,  82,  80, 145,  64, 135],\n",
       "      dtype=int16)"
      ]
     },
     "execution_count": 4,
     "metadata": {},
     "output_type": "execute_result"
    }
   ],
   "source": [
    "# \"?\"をNaN（欠損値）に変換\n",
    "train[\"horsepower\"] = train[\"horsepower\"].replace(\"?\", pd.NA)\n",
    "\n",
    "# \"horsepower\"列を数値に変換\n",
    "# downcastオプションで「整数」、「符号付き」、「符号なし」が指定可能\n",
    "train[\"horsepower\"] = pd.to_numeric(train[\"horsepower\"], errors=\"coerce\", downcast='signed')\n",
    "\n",
    "# 欠損値を平均値で埋める（他の代表値を使いたい場合は中央値や最頻値などを指定）\n",
    "mean_horsepower = train[\"horsepower\"].median()\n",
    "train[\"horsepower\"].fillna(mean_horsepower, inplace=True)\n",
    "\n",
    "train[\"horsepower\"].unique()"
   ]
  },
  {
   "cell_type": "code",
   "execution_count": 7,
   "metadata": {},
   "outputs": [
    {
     "data": {
      "text/html": [
       "<div>\n",
       "<style scoped>\n",
       "    .dataframe tbody tr th:only-of-type {\n",
       "        vertical-align: middle;\n",
       "    }\n",
       "\n",
       "    .dataframe tbody tr th {\n",
       "        vertical-align: top;\n",
       "    }\n",
       "\n",
       "    .dataframe thead th {\n",
       "        text-align: right;\n",
       "    }\n",
       "</style>\n",
       "<table border=\"1\" class=\"dataframe\">\n",
       "  <thead>\n",
       "    <tr style=\"text-align: right;\">\n",
       "      <th></th>\n",
       "      <th>id</th>\n",
       "      <th>mpg</th>\n",
       "      <th>cylinders</th>\n",
       "      <th>displacement</th>\n",
       "      <th>horsepower</th>\n",
       "      <th>weight</th>\n",
       "      <th>acceleration</th>\n",
       "      <th>model year</th>\n",
       "      <th>origin</th>\n",
       "    </tr>\n",
       "  </thead>\n",
       "  <tbody>\n",
       "    <tr>\n",
       "      <th>count</th>\n",
       "      <td>500.000000</td>\n",
       "      <td>500.000000</td>\n",
       "      <td>500.000000</td>\n",
       "      <td>500.000000</td>\n",
       "      <td>500.000000</td>\n",
       "      <td>500.00000</td>\n",
       "      <td>500.000000</td>\n",
       "      <td>500.000000</td>\n",
       "      <td>500.000000</td>\n",
       "    </tr>\n",
       "    <tr>\n",
       "      <th>mean</th>\n",
       "      <td>500.176000</td>\n",
       "      <td>27.010940</td>\n",
       "      <td>5.192000</td>\n",
       "      <td>194.762000</td>\n",
       "      <td>106.668000</td>\n",
       "      <td>2719.71400</td>\n",
       "      <td>15.300328</td>\n",
       "      <td>76.332000</td>\n",
       "      <td>1.420000</td>\n",
       "    </tr>\n",
       "    <tr>\n",
       "      <th>std</th>\n",
       "      <td>288.657179</td>\n",
       "      <td>7.356249</td>\n",
       "      <td>1.617519</td>\n",
       "      <td>106.277425</td>\n",
       "      <td>35.301759</td>\n",
       "      <td>717.03541</td>\n",
       "      <td>2.261096</td>\n",
       "      <td>3.909007</td>\n",
       "      <td>0.759443</td>\n",
       "    </tr>\n",
       "    <tr>\n",
       "      <th>min</th>\n",
       "      <td>0.000000</td>\n",
       "      <td>15.787613</td>\n",
       "      <td>4.000000</td>\n",
       "      <td>79.000000</td>\n",
       "      <td>54.000000</td>\n",
       "      <td>1755.00000</td>\n",
       "      <td>9.530859</td>\n",
       "      <td>70.000000</td>\n",
       "      <td>1.000000</td>\n",
       "    </tr>\n",
       "    <tr>\n",
       "      <th>25%</th>\n",
       "      <td>242.250000</td>\n",
       "      <td>22.396641</td>\n",
       "      <td>4.000000</td>\n",
       "      <td>104.000000</td>\n",
       "      <td>85.000000</td>\n",
       "      <td>2178.75000</td>\n",
       "      <td>13.441562</td>\n",
       "      <td>73.000000</td>\n",
       "      <td>1.000000</td>\n",
       "    </tr>\n",
       "    <tr>\n",
       "      <th>50%</th>\n",
       "      <td>513.000000</td>\n",
       "      <td>26.228984</td>\n",
       "      <td>4.000000</td>\n",
       "      <td>140.000000</td>\n",
       "      <td>97.000000</td>\n",
       "      <td>2615.00000</td>\n",
       "      <td>15.231923</td>\n",
       "      <td>76.000000</td>\n",
       "      <td>1.000000</td>\n",
       "    </tr>\n",
       "    <tr>\n",
       "      <th>75%</th>\n",
       "      <td>750.250000</td>\n",
       "      <td>35.088333</td>\n",
       "      <td>6.000000</td>\n",
       "      <td>302.000000</td>\n",
       "      <td>130.000000</td>\n",
       "      <td>3193.00000</td>\n",
       "      <td>17.190531</td>\n",
       "      <td>80.000000</td>\n",
       "      <td>2.000000</td>\n",
       "    </tr>\n",
       "    <tr>\n",
       "      <th>max</th>\n",
       "      <td>997.000000</td>\n",
       "      <td>44.763897</td>\n",
       "      <td>8.000000</td>\n",
       "      <td>429.000000</td>\n",
       "      <td>220.000000</td>\n",
       "      <td>4732.00000</td>\n",
       "      <td>21.922511</td>\n",
       "      <td>82.000000</td>\n",
       "      <td>3.000000</td>\n",
       "    </tr>\n",
       "  </tbody>\n",
       "</table>\n",
       "</div>"
      ],
      "text/plain": [
       "               id         mpg   cylinders  displacement  horsepower  \\\n",
       "count  500.000000  500.000000  500.000000    500.000000  500.000000   \n",
       "mean   500.176000   27.010940    5.192000    194.762000  106.668000   \n",
       "std    288.657179    7.356249    1.617519    106.277425   35.301759   \n",
       "min      0.000000   15.787613    4.000000     79.000000   54.000000   \n",
       "25%    242.250000   22.396641    4.000000    104.000000   85.000000   \n",
       "50%    513.000000   26.228984    4.000000    140.000000   97.000000   \n",
       "75%    750.250000   35.088333    6.000000    302.000000  130.000000   \n",
       "max    997.000000   44.763897    8.000000    429.000000  220.000000   \n",
       "\n",
       "           weight  acceleration  model year      origin  \n",
       "count   500.00000    500.000000  500.000000  500.000000  \n",
       "mean   2719.71400     15.300328   76.332000    1.420000  \n",
       "std     717.03541      2.261096    3.909007    0.759443  \n",
       "min    1755.00000      9.530859   70.000000    1.000000  \n",
       "25%    2178.75000     13.441562   73.000000    1.000000  \n",
       "50%    2615.00000     15.231923   76.000000    1.000000  \n",
       "75%    3193.00000     17.190531   80.000000    2.000000  \n",
       "max    4732.00000     21.922511   82.000000    3.000000  "
      ]
     },
     "execution_count": 7,
     "metadata": {},
     "output_type": "execute_result"
    }
   ],
   "source": [
    "# trainデータの統計的な情報を表示\n",
    "train.describe()"
   ]
  },
  {
   "cell_type": "code",
   "execution_count": 3,
   "metadata": {},
   "outputs": [
    {
     "data": {
      "image/png": "[encoded data removed]",
      "text/plain": [
       "<Figure size 1296x720 with 2 Axes>"
      ]
     },
     "metadata": {
      "needs_background": "light"
     },
     "output_type": "display_data"
    }
   ],
   "source": [
    "# 数値列の相関行列を計算\n",
    "correlation_matrix = train.corr()\n",
    "# 相関行列のヒートマップを可視化\n",
    "plt.figure(figsize=(18, 10))\n",
    "sns.heatmap(correlation_matrix, annot=True, cmap='coolwarm')\n",
    "plt.title('Correlation Matrix')\n",
    "plt.show()"
   ]
  },
  {
   "cell_type": "code",
   "execution_count": 8,
   "metadata": {},
   "outputs": [
    {
     "name": "stdout",
     "output_type": "stream",
     "text": [
      "id             -0.032431\n",
      "cylinders      -0.739658\n",
      "displacement   -0.605029\n",
      "horsepower     -0.470498\n",
      "weight         -0.261404\n",
      "acceleration    0.344398\n",
      "model year      0.422820\n",
      "origin          0.454347\n",
      "Name: mpg, dtype: float64\n"
     ]
    },
    {
     "data": {
      "image/png": "[encoded data removed]",
      "text/plain": [
       "<Figure size 720x720 with 1 Axes>"
      ]
     },
     "metadata": {
      "needs_background": "light"
     },
     "output_type": "display_data"
    }
   ],
   "source": [
    "correlation_with_price_range = train.corr()['mpg'].drop('mpg')\n",
    "print(correlation_with_price_range)\n",
    "\n",
    "#横棒グラフで相関係数を表示 \n",
    "#y_corrには特定の列の相関係数を格納 \n",
    "fig, ax = plt.subplots(figsize=(10, 10)) \n",
    "#横棒グラフ作成 \n",
    "sns.barplot(x=correlation_with_price_range, y=correlation_with_price_range.index, ax=ax) \n",
    "#X,Y軸とグラフタイトル \n",
    "ax.set_xlabel(\"Correlation Coefficient\") \n",
    "ax.set_ylabel(\"Features\") \n",
    "ax.set_title(f\"Correlation with Attrition\") \n",
    "#表示 \n",
    "plt.show()"
   ]
  },
  {
   "cell_type": "code",
   "execution_count": 1,
   "metadata": {},
   "outputs": [
    {
     "ename": "NameError",
     "evalue": "name 'train' is not defined",
     "output_type": "error",
     "traceback": [
      "\u001b[1;31m---------------------------------------------------------------------------\u001b[0m",
      "\u001b[1;31mNameError\u001b[0m                                 Traceback (most recent call last)",
      "\u001b[1;32m~\\AppData\\Local\\Temp/ipykernel_3492/553050838.py\u001b[0m in \u001b[0;36m<module>\u001b[1;34m\u001b[0m\n\u001b[1;32m----> 1\u001b[1;33m \u001b[0mtrain_age_unique\u001b[0m \u001b[1;33m=\u001b[0m \u001b[0mtrain\u001b[0m\u001b[1;33m[\u001b[0m\u001b[1;34m\"Age\"\u001b[0m\u001b[1;33m]\u001b[0m\u001b[1;33m.\u001b[0m\u001b[0munique\u001b[0m\u001b[1;33m(\u001b[0m\u001b[1;33m)\u001b[0m\u001b[1;33m\u001b[0m\u001b[1;33m\u001b[0m\u001b[0m\n\u001b[0m\u001b[0;32m      2\u001b[0m \u001b[0mprint\u001b[0m\u001b[1;33m(\u001b[0m\u001b[0mnp\u001b[0m\u001b[1;33m.\u001b[0m\u001b[0msort\u001b[0m\u001b[1;33m(\u001b[0m\u001b[0mtrain_age_unique\u001b[0m\u001b[1;33m)\u001b[0m\u001b[1;33m)\u001b[0m\u001b[1;33m\u001b[0m\u001b[1;33m\u001b[0m\u001b[0m\n\u001b[0;32m      3\u001b[0m \u001b[1;33m\u001b[0m\u001b[0m\n\u001b[0;32m      4\u001b[0m \u001b[0mtest_age_unique\u001b[0m \u001b[1;33m=\u001b[0m \u001b[0mtest\u001b[0m\u001b[1;33m[\u001b[0m\u001b[1;34m\"Age\"\u001b[0m\u001b[1;33m]\u001b[0m\u001b[1;33m.\u001b[0m\u001b[0munique\u001b[0m\u001b[1;33m(\u001b[0m\u001b[1;33m)\u001b[0m\u001b[1;33m\u001b[0m\u001b[1;33m\u001b[0m\u001b[0m\n\u001b[0;32m      5\u001b[0m \u001b[0mprint\u001b[0m\u001b[1;33m(\u001b[0m\u001b[0mnp\u001b[0m\u001b[1;33m.\u001b[0m\u001b[0msort\u001b[0m\u001b[1;33m(\u001b[0m\u001b[0mtest_age_unique\u001b[0m\u001b[1;33m)\u001b[0m\u001b[1;33m)\u001b[0m\u001b[1;33m\u001b[0m\u001b[1;33m\u001b[0m\u001b[0m\n",
      "\u001b[1;31mNameError\u001b[0m: name 'train' is not defined"
     ]
    }
   ],
   "source": [
    "train_age_unique = train[\"Age\"].unique()\n",
    "print(np.sort(train_age_unique))\n",
    "\n",
    "test_age_unique = test[\"Age\"].unique()\n",
    "print(np.sort(test_age_unique))\n",
    "\n",
    "# pd.set_option('display.max_rows', None)\n",
    "# pd.set_option('display.max_columns', None)\n",
    "# print(train[\"Age\"])"
   ]
  }
 ],
 "metadata": {
  "kernelspec": {
   "display_name": "Python 3 (ipykernel)",
   "language": "python",
   "name": "python3"
  },
  "language_info": {
   "codemirror_mode": {
    "name": "ipython",
    "version": 3
   },
   "file_extension": ".py",
   "mimetype": "text/x-python",
   "name": "python",
   "nbconvert_exporter": "python",
   "pygments_lexer": "ipython3",
   "version": "3.9.7"
  }
 },
 "nbformat": 4,
 "nbformat_minor": 2
}
