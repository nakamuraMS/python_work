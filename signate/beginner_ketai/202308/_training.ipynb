{
 "cells": [
  {
   "cell_type": "code",
   "execution_count": 1,
   "metadata": {},
   "outputs": [],
   "source": [
    "import utils as Util"
   ]
  },
  {
   "cell_type": "code",
   "execution_count": 3,
   "metadata": {},
   "outputs": [
    {
     "name": "stdout",
     "output_type": "stream",
     "text": [
      "Mean Squared Error: 5.110136995294997\n"
     ]
    }
   ],
   "source": [
    "import pandas as pd\n",
    "import numpy as np\n",
    "from sklearn.model_selection import train_test_split\n",
    "from sklearn.linear_model import LinearRegression\n",
    "from sklearn.metrics import mean_squared_error\n",
    "\n",
    "# データを読み込む（例としてdfというDataFrameを仮定）\n",
    "train = pd.read_csv(\"./train.csv\")\n",
    "\n",
    "train[\"horsepower\"] = Util.transform_missing_value(train[\"horsepower\"], \"?\")\n",
    "\n",
    "# 特徴量とターゲット変数を分ける\n",
    "X = train[[\"cylinders\",\"displacement\",\"horsepower\",\"weight\",\"acceleration\",\"model year\",\"origin\"]]\n",
    "y = train[\"mpg\"]\n",
    "\n",
    "# 訓練データとテストデータに分割\n",
    "X_train, X_test, y_train, y_test = train_test_split(X, y, test_size=0.2, random_state=42)\n",
    "\n",
    "# 線形回帰モデルを作成して訓練\n",
    "model = LinearRegression()\n",
    "model.fit(X_train, y_train)\n",
    "\n",
    "# テストデータで予測\n",
    "y_pred = model.predict(X_test)\n",
    "\n",
    "# 二乗平均平方根誤差を評価\n",
    "rmse = np.sqrt(mean_squared_error(y_test, y_pred))\n",
    "print(\"Mean Squared Error:\", rmse)\n"
   ]
  },
  {
   "cell_type": "code",
   "execution_count": 22,
   "metadata": {},
   "outputs": [
    {
     "name": "stdout",
     "output_type": "stream",
     "text": [
      "Best alpha: 10.0\n",
      "Mean Squared Error: 4.311192703702179\n"
     ]
    }
   ],
   "source": [
    "from sklearn.linear_model import Ridge\n",
    "from sklearn.model_selection import GridSearchCV\n",
    "import pandas as pd\n",
    "import numpy as np\n",
    "from sklearn.model_selection import train_test_split\n",
    "from sklearn.metrics import mean_squared_error\n",
    "\n",
    "train = pd.read_csv(\"./train.csv\")\n",
    "train[\"horsepower\"] = Util.transform_missing_value(train[\"horsepower\"], \"?\")\n",
    "\n",
    "# 特徴量とターゲット変数を分ける\n",
    "X = train[[\"cylinders\",\"displacement\",\"horsepower\",\"weight\",\"acceleration\",\"model year\",\"origin\"]]\n",
    "y = train[\"mpg\"]\n",
    "\n",
    "# Ridge回帰モデルを作成\n",
    "ridge_model = Ridge()\n",
    "\n",
    "# 調整したいハイパーパラメータの範囲を指定\n",
    "param_grid = {\n",
    "    \"alpha\": [0.01, 0.1, 1.0, 10.0]  # alphaはRidge回帰の正則化項の強さを制御するハイパーパラメータ\n",
    "}\n",
    "\n",
    "# グリッドサーチを使用して最適なハイパーパラメータを探索\n",
    "grid_search = GridSearchCV(ridge_model, param_grid, cv=5)\n",
    "grid_search.fit(X, y)\n",
    "\n",
    "# 最適なハイパーパラメータを表示\n",
    "print(\"Best alpha:\", grid_search.best_params_[\"alpha\"])\n",
    "\n",
    "# 最適なハイパーパラメータを使ってモデルを再構築\n",
    "best_model = grid_search.best_estimator_\n",
    "\n",
    "# 訓練データとテストデータに分割\n",
    "X_train, X_test, y_train, y_test = train_test_split(X, y, test_size=0.9, random_state=42)\n",
    "best_model.fit(X_train, y_train)\n",
    "\n",
    "# テストデータで予測\n",
    "y_pred = model.predict(X_test)\n",
    "\n",
    "# 二乗平均平方根誤差を評価\n",
    "rmse = np.sqrt(mean_squared_error(y_test, y_pred))\n",
    "print(\"Mean Squared Error:\", rmse)"
   ]
  },
  {
   "cell_type": "code",
   "execution_count": 7,
   "metadata": {},
   "outputs": [
    {
     "name": "stdout",
     "output_type": "stream",
     "text": [
      "Best alpha: 10.0\n",
      "Mean Squared Error: 4.80807260914431\n"
     ]
    }
   ],
   "source": [
    "from sklearn.linear_model import Ridge\n",
    "from sklearn.model_selection import GridSearchCV\n",
    "import pandas as pd\n",
    "import numpy as np\n",
    "from sklearn.model_selection import train_test_split\n",
    "from sklearn.metrics import mean_squared_error\n",
    "\n",
    "train = pd.read_csv(\"./train.csv\")\n",
    "train[\"horsepower\"] = Util.transform_missing_value(train[\"horsepower\"], \"?\")\n",
    "\n",
    "# 特徴量とターゲット変数を分ける\n",
    "X = train[[\"cylinders\",\"displacement\",\"horsepower\",\"weight\"]]\n",
    "y = train[\"mpg\"]\n",
    "\n",
    "# Ridge回帰モデルを作成\n",
    "ridge_model = Ridge()\n",
    "\n",
    "# 調整したいハイパーパラメータの範囲を指定\n",
    "param_grid = {\n",
    "    \"alpha\": [0.01, 0.1, 1.0, 10.0]  # alphaはRidge回帰の正則化項の強さを制御するハイパーパラメータ\n",
    "}\n",
    "\n",
    "# グリッドサーチを使用して最適なハイパーパラメータを探索\n",
    "grid_search = GridSearchCV(ridge_model, param_grid, cv=5)\n",
    "grid_search.fit(X, y)\n",
    "\n",
    "# 最適なハイパーパラメータを表示\n",
    "print(\"Best alpha:\", grid_search.best_params_[\"alpha\"])\n",
    "\n",
    "# 最適なハイパーパラメータを使ってモデルを再構築\n",
    "best_model = grid_search.best_estimator_\n",
    "\n",
    "# 訓練データとテストデータに分割\n",
    "X_train, X_test, y_train, y_test = train_test_split(X, y, test_size=0.4, random_state=42)\n",
    "best_model.fit(X_train, y_train)\n",
    "\n",
    "# テストデータで予測\n",
    "y_pred = best_model.predict(X_test)\n",
    "\n",
    "# 二乗平均平方根誤差を評価\n",
    "rmse = np.sqrt(mean_squared_error(y_test, y_pred))\n",
    "print(\"Mean Squared Error:\", rmse)"
   ]
  },
  {
   "cell_type": "code",
   "execution_count": 4,
   "metadata": {},
   "outputs": [
    {
     "name": "stdout",
     "output_type": "stream",
     "text": [
      "Training LinearRegression...\n",
      "LinearRegression - Mean Squared Error: 20.78220295708337\n",
      "Root Mean Squared Error: 4.55875015295677\n",
      "Training DecisionTreeRegressor...\n",
      "DecisionTreeRegressor - Mean Squared Error: 18.606381470018444\n",
      "Root Mean Squared Error: 4.313511501088\n",
      "Training RandomForestRegressor...\n",
      "RandomForestRegressor - Mean Squared Error: 12.471978301199021\n",
      "Root Mean Squared Error: 3.5315688158662604\n",
      "Training SVR...\n",
      "SVR - Mean Squared Error: 43.973197305980875\n",
      "Root Mean Squared Error: 6.631228943867107\n",
      "Training MLPRegressor...\n",
      "MLPRegressor - Mean Squared Error: 754.2665598445003\n",
      "Root Mean Squared Error: 27.463913775070374\n"
     ]
    }
   ],
   "source": [
    "import pandas as pd\n",
    "import numpy as np\n",
    "from sklearn.model_selection import train_test_split\n",
    "from sklearn.linear_model import LinearRegression\n",
    "from sklearn.tree import DecisionTreeRegressor\n",
    "from sklearn.ensemble import RandomForestRegressor\n",
    "from sklearn.svm import SVR\n",
    "from sklearn.neural_network import MLPRegressor\n",
    "from sklearn.metrics import mean_squared_error\n",
    "\n",
    "train = pd.read_csv(\"./train.csv\")\n",
    "train[\"horsepower\"] = Util.transform_missing_value(train[\"horsepower\"], \"?\")\n",
    "\n",
    "# 特徴量とターゲット変数を分ける\n",
    "X = train[[\"cylinders\",\"displacement\",\"horsepower\",\"weight\",\"acceleration\",\"model year\",\"origin\"]]\n",
    "y = train[\"mpg\"]\n",
    "\n",
    "# 訓練データとテストデータに分割\n",
    "X_train, X_test, y_train, y_test = train_test_split(X, y, test_size=0.5, random_state=42)\n",
    "\n",
    "# モデルをリストで定義\n",
    "models = [\n",
    "    LinearRegression(), # 線形回帰\n",
    "    DecisionTreeRegressor(random_state=42), # 決定木\n",
    "    RandomForestRegressor(random_state=42), # ランダムフォレスト\n",
    "    SVR(), # サポートベクターマシン（SVM）\n",
    "    MLPRegressor(random_state=42) # ニューラルネットワーク\n",
    "]\n",
    "\n",
    "# モデルごとに繰り返し処理\n",
    "for model in models:\n",
    "    model_name = model.__class__.__name__\n",
    "    print(f\"Training {model_name}...\")\n",
    "    model.fit(X_train, y_train)\n",
    "\n",
    "    # テストデータで予測\n",
    "    y_pred = model.predict(X_test)\n",
    "\n",
    "    # 平均二乗誤差を評価\n",
    "    mse = mean_squared_error(y_test, y_pred)\n",
    "    print(f\"{model_name} - Mean Squared Error: {mse}\")\n",
    "    rmse = np.sqrt(mean_squared_error(y_test, y_pred))\n",
    "    print(\"Root Mean Squared Error:\", rmse)\n"
   ]
  },
  {
   "cell_type": "code",
   "execution_count": 3,
   "metadata": {},
   "outputs": [
    {
     "name": "stdout",
     "output_type": "stream",
     "text": [
      "Best paramater: {'max_depth': 8, 'n_estimators': 64, 'n_jobs': -1, 'random_state': None}\n",
      "Mean Squared Error: 3.1908399527203355\n"
     ]
    }
   ],
   "source": [
    "from sklearn.ensemble import RandomForestRegressor\n",
    "from sklearn.model_selection import GridSearchCV\n",
    "import pandas as pd\n",
    "import numpy as np\n",
    "from sklearn.model_selection import train_test_split\n",
    "from sklearn.metrics import mean_squared_error\n",
    "\n",
    "train = pd.read_csv(\"./train.csv\")\n",
    "train[\"horsepower\"] = Util.transform_missing_value(train[\"horsepower\"], \"?\")\n",
    "\n",
    "# 特徴量とターゲット変数を分ける\n",
    "X = train[[\"cylinders\",\"displacement\",\"horsepower\",\"weight\",\"acceleration\",\"model year\",\"origin\"]]\n",
    "y = train[\"mpg\"]\n",
    "\n",
    "# ランダムフォレスト回帰モデルを作成\n",
    "random_model = RandomForestRegressor()\n",
    "\n",
    "# 調整したいハイパーパラメータの範囲を指定\n",
    "param_grid = {\n",
    "    'n_estimators'  : [4, 8, 16, 32, 64, 100, 200],\n",
    "    'max_depth' : [8, 16, 32, 64, 100, 150],\n",
    "    'n_jobs': [-1],\n",
    "    'random_state': [None, 10, 21, 42, 84]\n",
    "}\n",
    "\n",
    "# グリッドサーチを使用して最適なハイパーパラメータを探索\n",
    "grid_search = GridSearchCV(random_model, param_grid, cv=5)\n",
    "grid_search.fit(X, y)\n",
    "\n",
    "# 最適なハイパーパラメータを表示\n",
    "print(\"Best paramater:\", grid_search.best_params_)\n",
    "\n",
    "# 最適なハイパーパラメータを使ってモデルを再構築\n",
    "best_model = grid_search.best_estimator_\n",
    "\n",
    "# 訓練データとテストデータに分割\n",
    "X_train, X_test, y_train, y_test = train_test_split(X, y, test_size=0.4, random_state=42)\n",
    "best_model.fit(X_train, y_train)\n",
    "\n",
    "# テストデータで予測\n",
    "y_pred = best_model.predict(X_test)\n",
    "\n",
    "# 二乗平均平方根誤差を評価\n",
    "rmse = np.sqrt(mean_squared_error(y_test, y_pred))\n",
    "print(\"Mean Squared Error:\", rmse)"
   ]
  },
  {
   "cell_type": "code",
   "execution_count": null,
   "metadata": {},
   "outputs": [],
   "source": [
    "Best paramater: {'max_depth': 150, 'n_estimators': 64, 'n_jobs': -1}\n",
    "Mean Squared Error: 3.4392213424153613"
   ]
  }
 ],
 "metadata": {
  "kernelspec": {
   "display_name": "base",
   "language": "python",
   "name": "python3"
  },
  "language_info": {
   "codemirror_mode": {
    "name": "ipython",
    "version": 3
   },
   "file_extension": ".py",
   "mimetype": "text/x-python",
   "name": "python",
   "nbconvert_exporter": "python",
   "pygments_lexer": "ipython3",
   "version": "3.9.7"
  },
  "orig_nbformat": 4
 },
 "nbformat": 4,
 "nbformat_minor": 2
}
