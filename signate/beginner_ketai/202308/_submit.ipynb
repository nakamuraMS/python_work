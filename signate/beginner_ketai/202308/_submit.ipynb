{
 "cells": [
  {
   "cell_type": "code",
   "execution_count": 5,
   "metadata": {},
   "outputs": [
    {
     "name": "stdout",
     "output_type": "stream",
     "text": [
      "Series([], Name: horsepower, dtype: object)\n",
      "Series([], Name: horsepower, dtype: object)\n"
     ]
    }
   ],
   "source": [
    "import utils as Util\n",
    "import pandas as pd\n",
    "from sklearn.linear_model import LinearRegression\n",
    "\n",
    "train = pd.read_csv(\"./train.csv\")\n",
    "test = pd.read_csv(\"./test.csv\")\n",
    "sample = pd.read_csv(\"./sample_submit.csv\",header=None)\n",
    "\n",
    "# 欠損値の処理（trainデータ）\n",
    "train[\"horsepower\"] = Util.transform_missing_value(train[\"horsepower\"], \"?\")\n",
    "\n",
    "# 欠損値の処理（testデータ）\n",
    "test[\"horsepower\"] = Util.transform_missing_value(test[\"horsepower\"], \"?\")\n",
    "\n",
    "# 特徴量とターゲット変数を分ける（trainデータ）\n",
    "X_train = train[[\"cylinders\",\"displacement\",\"horsepower\",\"weight\",\"acceleration\",\"model year\",\"origin\"]]\n",
    "y_train = train[\"mpg\"]\n",
    "\n",
    "# 線形回帰モデルを作成して訓練\n",
    "model = LinearRegression()\n",
    "model.fit(X_train, y_train)\n",
    "\n",
    "# テストデータの特徴量で予測\n",
    "X_test = test[[\"cylinders\",\"displacement\",\"horsepower\",\"weight\",\"acceleration\",\"model year\",\"origin\"]]\n",
    "y_pred = model.predict(X_test)\n",
    "\n",
    "# 予測結果をCSVファイルとして保存\n",
    "sample[1] = y_pred\n",
    "sample.to_csv(\"submission1.csv\", index=None, header=None)"
   ]
  },
  {
   "cell_type": "code",
   "execution_count": 9,
   "metadata": {},
   "outputs": [
    {
     "name": "stdout",
     "output_type": "stream",
     "text": [
      "Series([], Name: horsepower, dtype: object)\n",
      "Series([], Name: horsepower, dtype: object)\n"
     ]
    }
   ],
   "source": [
    "import utils as Util\n",
    "import pandas as pd\n",
    "from sklearn.svm import SVR\n",
    "\n",
    "train = pd.read_csv(\"./train.csv\")\n",
    "test = pd.read_csv(\"./test.csv\")\n",
    "sample = pd.read_csv(\"./sample_submit.csv\",header=None)\n",
    "\n",
    "# 欠損値の処理（trainデータ）\n",
    "train[\"horsepower\"] = Util.transform_missing_value(train[\"horsepower\"], \"?\")\n",
    "\n",
    "# 欠損値の処理（testデータ）\n",
    "test[\"horsepower\"] = Util.transform_missing_value(test[\"horsepower\"], \"?\")\n",
    "\n",
    "# 特徴量とターゲット変数を分ける（trainデータ）\n",
    "X_train = train[[\"cylinders\",\"displacement\",\"horsepower\",\"weight\",\"acceleration\",\"model year\",\"origin\"]]\n",
    "y_train = train[\"mpg\"]\n",
    "\n",
    "# 線形回帰モデルを作成して訓練\n",
    "model = SVR()\n",
    "model.fit(X_train, y_train)\n",
    "\n",
    "# テストデータの特徴量で予測\n",
    "X_test = test[[\"cylinders\",\"displacement\",\"horsepower\",\"weight\",\"acceleration\",\"model year\",\"origin\"]]\n",
    "y_pred = model.predict(X_test)\n",
    "\n",
    "# 予測結果をCSVファイルとして保存\n",
    "sample[1] = y_pred\n",
    "sample.to_csv(\"submission2.csv\", index=None, header=None)"
   ]
  },
  {
   "cell_type": "code",
   "execution_count": 8,
   "metadata": {},
   "outputs": [
    {
     "name": "stdout",
     "output_type": "stream",
     "text": [
      "Series([], Name: horsepower, dtype: object)\n",
      "Series([], Name: horsepower, dtype: object)\n"
     ]
    }
   ],
   "source": [
    "# これが一番スコア良かった\n",
    "import utils as Util\n",
    "import pandas as pd\n",
    "from sklearn.ensemble import RandomForestRegressor\n",
    "\n",
    "train = pd.read_csv(\"./train.csv\")\n",
    "test = pd.read_csv(\"./test.csv\")\n",
    "sample = pd.read_csv(\"./sample_submit.csv\",header=None)\n",
    "\n",
    "# 欠損値の処理（trainデータ）\n",
    "train[\"horsepower\"] = Util.transform_missing_value(train[\"horsepower\"], \"?\")\n",
    "\n",
    "# 欠損値の処理（testデータ）\n",
    "test[\"horsepower\"] = Util.transform_missing_value(test[\"horsepower\"], \"?\")\n",
    "\n",
    "# 特徴量とターゲット変数を分ける（trainデータ）\n",
    "X_train = train[[\"cylinders\",\"displacement\",\"horsepower\",\"weight\",\"acceleration\",\"model year\",\"origin\"]]\n",
    "y_train = train[\"mpg\"]\n",
    "\n",
    "# 線形回帰モデルを作成して訓練\n",
    "model = RandomForestRegressor(random_state=42)\n",
    "model.fit(X_train, y_train)\n",
    "\n",
    "# テストデータの特徴量で予測\n",
    "X_test = test[[\"cylinders\",\"displacement\",\"horsepower\",\"weight\",\"acceleration\",\"model year\",\"origin\"]]\n",
    "y_pred = model.predict(X_test)\n",
    "\n",
    "# 予測結果をCSVファイルとして保存\n",
    "sample[1] = y_pred\n",
    "sample.to_csv(\"submission3.csv\", index=None, header=None)"
   ]
  },
  {
   "cell_type": "code",
   "execution_count": null,
   "metadata": {},
   "outputs": [],
   "source": [
    "import utils as Util\n",
    "import pandas as pd\n",
    "from sklearn.ensemble import RandomForestRegressor\n",
    "\n",
    "train = pd.read_csv(\"./train.csv\")\n",
    "test = pd.read_csv(\"./test.csv\")\n",
    "sample = pd.read_csv(\"./sample_submit.csv\",header=None)\n",
    "\n",
    "# 欠損値の処理（trainデータ）\n",
    "train[\"horsepower\"] = Util.transform_missing_value(train[\"horsepower\"], \"?\")\n",
    "\n",
    "# 欠損値の処理（testデータ）\n",
    "test[\"horsepower\"] = Util.transform_missing_value(test[\"horsepower\"], \"?\")\n",
    "\n",
    "# 特徴量とターゲット変数を分ける（trainデータ）\n",
    "X_train = train[[\"cylinders\",\"displacement\",\"horsepower\",\"weight\",\"acceleration\",\"model year\",\"origin\"]]\n",
    "y_train = train[\"mpg\"]\n",
    "\n",
    "# 線形回帰モデルを作成して訓練\n",
    "model = RandomForestRegressor(random_state=42, n_estimators=64, max_depth=64, n_jobs=-1)\n",
    "model.fit(X_train, y_train)\n",
    "\n",
    "# テストデータの特徴量で予測\n",
    "X_test = test[[\"cylinders\",\"displacement\",\"horsepower\",\"weight\",\"acceleration\",\"model year\",\"origin\"]]\n",
    "y_pred = model.predict(X_test)\n",
    "\n",
    "# 予測結果をCSVファイルとして保存\n",
    "sample[1] = y_pred\n",
    "sample.to_csv(\"submission4.csv\", index=None, header=None)"
   ]
  },
  {
   "cell_type": "code",
   "execution_count": null,
   "metadata": {},
   "outputs": [],
   "source": [
    "import utils as Util\n",
    "import pandas as pd\n",
    "from sklearn.ensemble import RandomForestRegressor\n",
    "\n",
    "train = pd.read_csv(\"./train.csv\")\n",
    "test = pd.read_csv(\"./test.csv\")\n",
    "sample = pd.read_csv(\"./sample_submit.csv\",header=None)\n",
    "\n",
    "# 欠損値の処理（trainデータ）\n",
    "train[\"horsepower\"] = Util.transform_missing_value(train[\"horsepower\"], \"?\")\n",
    "\n",
    "# 欠損値の処理（testデータ）\n",
    "test[\"horsepower\"] = Util.transform_missing_value(test[\"horsepower\"], \"?\")\n",
    "\n",
    "# 特徴量とターゲット変数を分ける（trainデータ）\n",
    "X_train = train[[\"cylinders\",\"displacement\",\"horsepower\",\"weight\",\"acceleration\",\"model year\",\"origin\"]]\n",
    "y_train = train[\"mpg\"]\n",
    "\n",
    "# 線形回帰モデルを作成して訓練\n",
    "model = RandomForestRegressor(random_state=None, n_estimators=64, max_depth=8, n_jobs=-1)\n",
    "model.fit(X_train, y_train)\n",
    "\n",
    "# テストデータの特徴量で予測\n",
    "X_test = test[[\"cylinders\",\"displacement\",\"horsepower\",\"weight\",\"acceleration\",\"model year\",\"origin\"]]\n",
    "y_pred = model.predict(X_test)\n",
    "\n",
    "# 予測結果をCSVファイルとして保存\n",
    "sample[1] = y_pred\n",
    "sample.to_csv(\"submission5.csv\", index=None, header=None)"
   ]
  }
 ],
 "metadata": {
  "kernelspec": {
   "display_name": "base",
   "language": "python",
   "name": "python3"
  },
  "language_info": {
   "codemirror_mode": {
    "name": "ipython",
    "version": 3
   },
   "file_extension": ".py",
   "mimetype": "text/x-python",
   "name": "python",
   "nbconvert_exporter": "python",
   "pygments_lexer": "ipython3",
   "version": "3.9.7"
  },
  "orig_nbformat": 4
 },
 "nbformat": 4,
 "nbformat_minor": 2
}
